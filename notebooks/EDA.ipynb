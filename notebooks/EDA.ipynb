{
  "nbformat": 4,
  "nbformat_minor": 0,
  "metadata": {
    "colab": {
      "name": "EDA.ipynb",
      "provenance": [],
      "mount_file_id": "1ETTv7szFT-kiPTWNaqvTTY4mk-ELapCB",
      "authorship_tag": "ABX9TyOSbHojoaxChinsvQ9Ple1O",
      "include_colab_link": true
    },
    "kernelspec": {
      "name": "python3",
      "display_name": "Python 3"
    }
  },
  "cells": [
    {
      "cell_type": "markdown",
      "metadata": {
        "id": "view-in-github",
        "colab_type": "text"
      },
      "source": [
        "<a href=\"https://colab.research.google.com/github/jorgel-mendes/Portifolio_Recommender_Codenation/blob/master/EDA.ipynb\" target=\"_parent\"><img src=\"https://colab.research.google.com/assets/colab-badge.svg\" alt=\"Open In Colab\"/></a>"
      ]
    },
    {
      "cell_type": "markdown",
      "metadata": {
        "id": "Ccd6pWc8d8Um",
        "colab_type": "text"
      },
      "source": [
        "# Análise exploratória desafio final codenation"
      ]
    },
    {
      "cell_type": "code",
      "metadata": {
        "id": "cSnOJheRgZNA",
        "colab_type": "code",
        "colab": {
          "base_uri": "https://localhost:8080/",
          "height": 71
        },
        "outputId": "2fd290c9-dd48-4ca8-aa8b-01bd0f2192e4"
      },
      "source": [
        "import pandas as pd\n",
        "import numpy as np\n",
        "import seaborn as sns\n",
        "import matplotlib.pyplot as plt\n",
        "\n",
        "\n",
        "sns.set_style(\"darkgrid\")"
      ],
      "execution_count": null,
      "outputs": [
        {
          "output_type": "stream",
          "text": [
            "/usr/local/lib/python3.6/dist-packages/statsmodels/tools/_testing.py:19: FutureWarning: pandas.util.testing is deprecated. Use the functions in the public API at pandas.testing instead.\n",
            "  import pandas.util.testing as tm\n"
          ],
          "name": "stderr"
        }
      ]
    },
    {
      "cell_type": "code",
      "metadata": {
        "id": "jLKE2FHdeCNE",
        "colab_type": "code",
        "colab": {}
      },
      "source": [
        "market_initial = pd.read_csv(\"/content/drive/My Drive/Codenation_DS_2/Desafio_Final/estaticos_market.csv\")\n",
        "portifolio1 = pd.read_csv(\"/content/drive/My Drive/Codenation_DS_2/Desafio_Final/estaticos_portfolio1.csv\")\n",
        "portifolio2 = pd.read_csv(\"/content/drive/My Drive/Codenation_DS_2/Desafio_Final/estaticos_portfolio2.csv\")\n",
        "portifolio3 = pd.read_csv(\"/content/drive/My Drive/Codenation_DS_2/Desafio_Final/estaticos_portfolio3.csv\")"
      ],
      "execution_count": null,
      "outputs": []
    },
    {
      "cell_type": "code",
      "metadata": {
        "id": "g3KpduxhpTRB",
        "colab_type": "code",
        "colab": {
          "base_uri": "https://localhost:8080/",
          "height": 102
        },
        "outputId": "14ae5a0c-051a-4623-83ea-bdf5ad3a9455"
      },
      "source": [
        "market_initial.info()"
      ],
      "execution_count": null,
      "outputs": [
        {
          "output_type": "stream",
          "text": [
            "<class 'pandas.core.frame.DataFrame'>\n",
            "RangeIndex: 462298 entries, 0 to 462297\n",
            "Columns: 182 entries, Unnamed: 0 to qt_filiais\n",
            "dtypes: bool(9), float64(144), int64(2), object(27)\n",
            "memory usage: 614.1+ MB\n"
          ],
          "name": "stdout"
        }
      ]
    },
    {
      "cell_type": "code",
      "metadata": {
        "id": "IUvLs_2YpAmE",
        "colab_type": "code",
        "colab": {
          "base_uri": "https://localhost:8080/",
          "height": 474
        },
        "outputId": "efd98cd4-9fa0-483a-c342-5d0545a58b67"
      },
      "source": [
        "market_initial.head()"
      ],
      "execution_count": null,
      "outputs": [
        {
          "output_type": "execute_result",
          "data": {
            "text/html": [
              "<div>\n",
              "<style scoped>\n",
              "    .dataframe tbody tr th:only-of-type {\n",
              "        vertical-align: middle;\n",
              "    }\n",
              "\n",
              "    .dataframe tbody tr th {\n",
              "        vertical-align: top;\n",
              "    }\n",
              "\n",
              "    .dataframe thead th {\n",
              "        text-align: right;\n",
              "    }\n",
              "</style>\n",
              "<table border=\"1\" class=\"dataframe\">\n",
              "  <thead>\n",
              "    <tr style=\"text-align: right;\">\n",
              "      <th></th>\n",
              "      <th>Unnamed: 0</th>\n",
              "      <th>id</th>\n",
              "      <th>fl_matriz</th>\n",
              "      <th>de_natureza_juridica</th>\n",
              "      <th>sg_uf</th>\n",
              "      <th>natureza_juridica_macro</th>\n",
              "      <th>de_ramo</th>\n",
              "      <th>setor</th>\n",
              "      <th>idade_empresa_anos</th>\n",
              "      <th>idade_emp_cat</th>\n",
              "      <th>fl_me</th>\n",
              "      <th>fl_sa</th>\n",
              "      <th>fl_epp</th>\n",
              "      <th>fl_mei</th>\n",
              "      <th>fl_ltda</th>\n",
              "      <th>dt_situacao</th>\n",
              "      <th>fl_st_especial</th>\n",
              "      <th>fl_email</th>\n",
              "      <th>fl_telefone</th>\n",
              "      <th>fl_rm</th>\n",
              "      <th>nm_divisao</th>\n",
              "      <th>nm_segmento</th>\n",
              "      <th>fl_spa</th>\n",
              "      <th>fl_antt</th>\n",
              "      <th>fl_veiculo</th>\n",
              "      <th>vl_total_tancagem</th>\n",
              "      <th>vl_total_veiculos_antt</th>\n",
              "      <th>vl_total_veiculos_leves</th>\n",
              "      <th>vl_total_veiculos_pesados</th>\n",
              "      <th>fl_optante_simples</th>\n",
              "      <th>qt_art</th>\n",
              "      <th>vl_total_veiculos_pesados_grupo</th>\n",
              "      <th>vl_total_veiculos_leves_grupo</th>\n",
              "      <th>vl_total_tancagem_grupo</th>\n",
              "      <th>vl_total_veiculos_antt_grupo</th>\n",
              "      <th>vl_potenc_cons_oleo_gas</th>\n",
              "      <th>fl_optante_simei</th>\n",
              "      <th>sg_uf_matriz</th>\n",
              "      <th>de_saude_tributaria</th>\n",
              "      <th>de_saude_rescencia</th>\n",
              "      <th>...</th>\n",
              "      <th>vl_faturamento_estimado_aux</th>\n",
              "      <th>vl_faturamento_estimado_grupo_aux</th>\n",
              "      <th>qt_ex_funcionarios</th>\n",
              "      <th>qt_funcionarios_grupo</th>\n",
              "      <th>percent_func_genero_masc</th>\n",
              "      <th>percent_func_genero_fem</th>\n",
              "      <th>idade_ate_18</th>\n",
              "      <th>idade_de_19_a_23</th>\n",
              "      <th>idade_de_24_a_28</th>\n",
              "      <th>idade_de_29_a_33</th>\n",
              "      <th>idade_de_34_a_38</th>\n",
              "      <th>idade_de_39_a_43</th>\n",
              "      <th>idade_de_44_a_48</th>\n",
              "      <th>idade_de_49_a_53</th>\n",
              "      <th>idade_de_54_a_58</th>\n",
              "      <th>idade_acima_de_58</th>\n",
              "      <th>grau_instrucao_macro_analfabeto</th>\n",
              "      <th>grau_instrucao_macro_escolaridade_fundamental</th>\n",
              "      <th>grau_instrucao_macro_escolaridade_media</th>\n",
              "      <th>grau_instrucao_macro_escolaridade_superior</th>\n",
              "      <th>grau_instrucao_macro_desconhecido</th>\n",
              "      <th>total</th>\n",
              "      <th>meses_ultima_contratacaco</th>\n",
              "      <th>qt_admitidos_12meses</th>\n",
              "      <th>qt_desligados_12meses</th>\n",
              "      <th>qt_desligados</th>\n",
              "      <th>qt_admitidos</th>\n",
              "      <th>media_meses_servicos_all</th>\n",
              "      <th>max_meses_servicos_all</th>\n",
              "      <th>min_meses_servicos_all</th>\n",
              "      <th>media_meses_servicos</th>\n",
              "      <th>max_meses_servicos</th>\n",
              "      <th>min_meses_servicos</th>\n",
              "      <th>qt_funcionarios</th>\n",
              "      <th>qt_funcionarios_12meses</th>\n",
              "      <th>qt_funcionarios_24meses</th>\n",
              "      <th>tx_crescimento_12meses</th>\n",
              "      <th>tx_crescimento_24meses</th>\n",
              "      <th>tx_rotatividade</th>\n",
              "      <th>qt_filiais</th>\n",
              "    </tr>\n",
              "  </thead>\n",
              "  <tbody>\n",
              "    <tr>\n",
              "      <th>0</th>\n",
              "      <td>0</td>\n",
              "      <td>a6984c3ae395090e3bee8ad63c3758b110de096d5d8195...</td>\n",
              "      <td>True</td>\n",
              "      <td>SOCIEDADE EMPRESARIA LIMITADA</td>\n",
              "      <td>RN</td>\n",
              "      <td>ENTIDADES EMPRESARIAIS</td>\n",
              "      <td>INDUSTRIA DA CONSTRUCAO</td>\n",
              "      <td>CONSTRUÇÃO CIVIL</td>\n",
              "      <td>14.457534</td>\n",
              "      <td>10 a 15</td>\n",
              "      <td>False</td>\n",
              "      <td>False</td>\n",
              "      <td>False</td>\n",
              "      <td>False</td>\n",
              "      <td>False</td>\n",
              "      <td>2005-03-25</td>\n",
              "      <td>False</td>\n",
              "      <td>True</td>\n",
              "      <td>True</td>\n",
              "      <td>SIM</td>\n",
              "      <td>CONSTRUCAO DE EDIFICIOS</td>\n",
              "      <td>CONSTRUCAO</td>\n",
              "      <td>False</td>\n",
              "      <td>False</td>\n",
              "      <td>False</td>\n",
              "      <td>NaN</td>\n",
              "      <td>NaN</td>\n",
              "      <td>NaN</td>\n",
              "      <td>NaN</td>\n",
              "      <td>True</td>\n",
              "      <td>8.0</td>\n",
              "      <td>0.0</td>\n",
              "      <td>0.0</td>\n",
              "      <td>NaN</td>\n",
              "      <td>NaN</td>\n",
              "      <td>NaN</td>\n",
              "      <td>False</td>\n",
              "      <td>RN</td>\n",
              "      <td>VERDE</td>\n",
              "      <td>ACIMA DE 1 ANO</td>\n",
              "      <td>...</td>\n",
              "      <td>3132172.8</td>\n",
              "      <td>3132172.8</td>\n",
              "      <td>119.0</td>\n",
              "      <td>26.0</td>\n",
              "      <td>100.0</td>\n",
              "      <td>0.0</td>\n",
              "      <td>NaN</td>\n",
              "      <td>1.0</td>\n",
              "      <td>4.0</td>\n",
              "      <td>6.0</td>\n",
              "      <td>5.0</td>\n",
              "      <td>3.0</td>\n",
              "      <td>4.0</td>\n",
              "      <td>2.0</td>\n",
              "      <td>NaN</td>\n",
              "      <td>1.0</td>\n",
              "      <td>NaN</td>\n",
              "      <td>1.0</td>\n",
              "      <td>25.0</td>\n",
              "      <td>NaN</td>\n",
              "      <td>NaN</td>\n",
              "      <td>26.0</td>\n",
              "      <td>19.166667</td>\n",
              "      <td>0.0</td>\n",
              "      <td>0.0</td>\n",
              "      <td>119.0</td>\n",
              "      <td>145.0</td>\n",
              "      <td>13.309195</td>\n",
              "      <td>93.266667</td>\n",
              "      <td>-0.933333</td>\n",
              "      <td>43.738462</td>\n",
              "      <td>93.266667</td>\n",
              "      <td>19.166667</td>\n",
              "      <td>26.0</td>\n",
              "      <td>26.0</td>\n",
              "      <td>27.0</td>\n",
              "      <td>0.0</td>\n",
              "      <td>-3.703704</td>\n",
              "      <td>0.0</td>\n",
              "      <td>0</td>\n",
              "    </tr>\n",
              "    <tr>\n",
              "      <th>1</th>\n",
              "      <td>1</td>\n",
              "      <td>6178f41ade1365e44bc2c46654c2c8c0eaae27dcb476c4...</td>\n",
              "      <td>True</td>\n",
              "      <td>EMPRESARIO INDIVIDUAL</td>\n",
              "      <td>PI</td>\n",
              "      <td>OUTROS</td>\n",
              "      <td>SERVICOS DE ALOJAMENTO/ALIMENTACAO</td>\n",
              "      <td>SERVIÇO</td>\n",
              "      <td>1.463014</td>\n",
              "      <td>1 a 5</td>\n",
              "      <td>False</td>\n",
              "      <td>False</td>\n",
              "      <td>False</td>\n",
              "      <td>True</td>\n",
              "      <td>False</td>\n",
              "      <td>2017-05-12</td>\n",
              "      <td>False</td>\n",
              "      <td>True</td>\n",
              "      <td>True</td>\n",
              "      <td>SIM</td>\n",
              "      <td>ALIMENTACAO</td>\n",
              "      <td>ALOJAMENTO E ALIMENTACAO</td>\n",
              "      <td>False</td>\n",
              "      <td>False</td>\n",
              "      <td>False</td>\n",
              "      <td>NaN</td>\n",
              "      <td>NaN</td>\n",
              "      <td>NaN</td>\n",
              "      <td>NaN</td>\n",
              "      <td>NaN</td>\n",
              "      <td>NaN</td>\n",
              "      <td>0.0</td>\n",
              "      <td>0.0</td>\n",
              "      <td>NaN</td>\n",
              "      <td>NaN</td>\n",
              "      <td>NaN</td>\n",
              "      <td>NaN</td>\n",
              "      <td>PI</td>\n",
              "      <td>CINZA</td>\n",
              "      <td>ATE 1 ANO</td>\n",
              "      <td>...</td>\n",
              "      <td>210000.0</td>\n",
              "      <td>210000.0</td>\n",
              "      <td>NaN</td>\n",
              "      <td>NaN</td>\n",
              "      <td>NaN</td>\n",
              "      <td>NaN</td>\n",
              "      <td>NaN</td>\n",
              "      <td>NaN</td>\n",
              "      <td>NaN</td>\n",
              "      <td>NaN</td>\n",
              "      <td>NaN</td>\n",
              "      <td>NaN</td>\n",
              "      <td>NaN</td>\n",
              "      <td>NaN</td>\n",
              "      <td>NaN</td>\n",
              "      <td>NaN</td>\n",
              "      <td>NaN</td>\n",
              "      <td>NaN</td>\n",
              "      <td>NaN</td>\n",
              "      <td>NaN</td>\n",
              "      <td>NaN</td>\n",
              "      <td>NaN</td>\n",
              "      <td>NaN</td>\n",
              "      <td>NaN</td>\n",
              "      <td>NaN</td>\n",
              "      <td>NaN</td>\n",
              "      <td>NaN</td>\n",
              "      <td>NaN</td>\n",
              "      <td>NaN</td>\n",
              "      <td>NaN</td>\n",
              "      <td>NaN</td>\n",
              "      <td>NaN</td>\n",
              "      <td>NaN</td>\n",
              "      <td>NaN</td>\n",
              "      <td>NaN</td>\n",
              "      <td>NaN</td>\n",
              "      <td>NaN</td>\n",
              "      <td>NaN</td>\n",
              "      <td>NaN</td>\n",
              "      <td>0</td>\n",
              "    </tr>\n",
              "    <tr>\n",
              "      <th>2</th>\n",
              "      <td>2</td>\n",
              "      <td>4a7e5069a397f12fdd7fd57111d6dc5d3ba558958efc02...</td>\n",
              "      <td>True</td>\n",
              "      <td>EMPRESARIO INDIVIDUAL</td>\n",
              "      <td>AM</td>\n",
              "      <td>OUTROS</td>\n",
              "      <td>TRANSPORTE, ARMAZENAGEM E CORREIO</td>\n",
              "      <td>SERVIÇO</td>\n",
              "      <td>7.093151</td>\n",
              "      <td>5 a 10</td>\n",
              "      <td>False</td>\n",
              "      <td>False</td>\n",
              "      <td>False</td>\n",
              "      <td>True</td>\n",
              "      <td>False</td>\n",
              "      <td>2011-09-26</td>\n",
              "      <td>False</td>\n",
              "      <td>False</td>\n",
              "      <td>True</td>\n",
              "      <td>SIM</td>\n",
              "      <td>TRANSPORTE TERRESTRE</td>\n",
              "      <td>TRANSPORTE ARMAZENAGEM E CORREIO</td>\n",
              "      <td>False</td>\n",
              "      <td>False</td>\n",
              "      <td>False</td>\n",
              "      <td>NaN</td>\n",
              "      <td>NaN</td>\n",
              "      <td>NaN</td>\n",
              "      <td>NaN</td>\n",
              "      <td>True</td>\n",
              "      <td>NaN</td>\n",
              "      <td>0.0</td>\n",
              "      <td>0.0</td>\n",
              "      <td>NaN</td>\n",
              "      <td>NaN</td>\n",
              "      <td>NaN</td>\n",
              "      <td>True</td>\n",
              "      <td>AM</td>\n",
              "      <td>AMARELO</td>\n",
              "      <td>ACIMA DE 1 ANO</td>\n",
              "      <td>...</td>\n",
              "      <td>50000.0</td>\n",
              "      <td>50000.0</td>\n",
              "      <td>NaN</td>\n",
              "      <td>NaN</td>\n",
              "      <td>NaN</td>\n",
              "      <td>NaN</td>\n",
              "      <td>NaN</td>\n",
              "      <td>NaN</td>\n",
              "      <td>NaN</td>\n",
              "      <td>NaN</td>\n",
              "      <td>NaN</td>\n",
              "      <td>NaN</td>\n",
              "      <td>NaN</td>\n",
              "      <td>NaN</td>\n",
              "      <td>NaN</td>\n",
              "      <td>NaN</td>\n",
              "      <td>NaN</td>\n",
              "      <td>NaN</td>\n",
              "      <td>NaN</td>\n",
              "      <td>NaN</td>\n",
              "      <td>NaN</td>\n",
              "      <td>NaN</td>\n",
              "      <td>NaN</td>\n",
              "      <td>NaN</td>\n",
              "      <td>NaN</td>\n",
              "      <td>NaN</td>\n",
              "      <td>NaN</td>\n",
              "      <td>NaN</td>\n",
              "      <td>NaN</td>\n",
              "      <td>NaN</td>\n",
              "      <td>NaN</td>\n",
              "      <td>NaN</td>\n",
              "      <td>NaN</td>\n",
              "      <td>NaN</td>\n",
              "      <td>NaN</td>\n",
              "      <td>NaN</td>\n",
              "      <td>NaN</td>\n",
              "      <td>NaN</td>\n",
              "      <td>NaN</td>\n",
              "      <td>0</td>\n",
              "    </tr>\n",
              "    <tr>\n",
              "      <th>3</th>\n",
              "      <td>3</td>\n",
              "      <td>3348900fe63216a439d2e5238c79ddd46ede454df7b9d8...</td>\n",
              "      <td>True</td>\n",
              "      <td>EMPRESARIO INDIVIDUAL</td>\n",
              "      <td>AM</td>\n",
              "      <td>OUTROS</td>\n",
              "      <td>SERVICOS DIVERSOS</td>\n",
              "      <td>SERVIÇO</td>\n",
              "      <td>6.512329</td>\n",
              "      <td>5 a 10</td>\n",
              "      <td>False</td>\n",
              "      <td>False</td>\n",
              "      <td>False</td>\n",
              "      <td>False</td>\n",
              "      <td>False</td>\n",
              "      <td>2012-04-25</td>\n",
              "      <td>False</td>\n",
              "      <td>True</td>\n",
              "      <td>True</td>\n",
              "      <td>SIM</td>\n",
              "      <td>REPARACAO E MANUTENCAO DE EQUIPAMENTOS DE INFO...</td>\n",
              "      <td>OUTRAS ATIVIDADES DE SERVICOS</td>\n",
              "      <td>False</td>\n",
              "      <td>False</td>\n",
              "      <td>False</td>\n",
              "      <td>NaN</td>\n",
              "      <td>NaN</td>\n",
              "      <td>NaN</td>\n",
              "      <td>NaN</td>\n",
              "      <td>True</td>\n",
              "      <td>NaN</td>\n",
              "      <td>0.0</td>\n",
              "      <td>0.0</td>\n",
              "      <td>NaN</td>\n",
              "      <td>NaN</td>\n",
              "      <td>NaN</td>\n",
              "      <td>False</td>\n",
              "      <td>AM</td>\n",
              "      <td>AMARELO</td>\n",
              "      <td>ACIMA DE 1 ANO</td>\n",
              "      <td>...</td>\n",
              "      <td>210000.0</td>\n",
              "      <td>210000.0</td>\n",
              "      <td>NaN</td>\n",
              "      <td>NaN</td>\n",
              "      <td>NaN</td>\n",
              "      <td>NaN</td>\n",
              "      <td>NaN</td>\n",
              "      <td>NaN</td>\n",
              "      <td>NaN</td>\n",
              "      <td>NaN</td>\n",
              "      <td>NaN</td>\n",
              "      <td>NaN</td>\n",
              "      <td>NaN</td>\n",
              "      <td>NaN</td>\n",
              "      <td>NaN</td>\n",
              "      <td>NaN</td>\n",
              "      <td>NaN</td>\n",
              "      <td>NaN</td>\n",
              "      <td>NaN</td>\n",
              "      <td>NaN</td>\n",
              "      <td>NaN</td>\n",
              "      <td>NaN</td>\n",
              "      <td>NaN</td>\n",
              "      <td>NaN</td>\n",
              "      <td>NaN</td>\n",
              "      <td>NaN</td>\n",
              "      <td>NaN</td>\n",
              "      <td>NaN</td>\n",
              "      <td>NaN</td>\n",
              "      <td>NaN</td>\n",
              "      <td>NaN</td>\n",
              "      <td>NaN</td>\n",
              "      <td>NaN</td>\n",
              "      <td>NaN</td>\n",
              "      <td>NaN</td>\n",
              "      <td>NaN</td>\n",
              "      <td>NaN</td>\n",
              "      <td>NaN</td>\n",
              "      <td>NaN</td>\n",
              "      <td>0</td>\n",
              "    </tr>\n",
              "    <tr>\n",
              "      <th>4</th>\n",
              "      <td>4</td>\n",
              "      <td>1f9bcabc9d3173c1fe769899e4fac14b053037b953a1e4...</td>\n",
              "      <td>True</td>\n",
              "      <td>EMPRESARIO INDIVIDUAL</td>\n",
              "      <td>RN</td>\n",
              "      <td>OUTROS</td>\n",
              "      <td>SERVICOS PROFISSIONAIS, TECNICOS E CIENTIFICOS</td>\n",
              "      <td>SERVIÇO</td>\n",
              "      <td>3.200000</td>\n",
              "      <td>1 a 5</td>\n",
              "      <td>False</td>\n",
              "      <td>False</td>\n",
              "      <td>False</td>\n",
              "      <td>False</td>\n",
              "      <td>False</td>\n",
              "      <td>2015-08-17</td>\n",
              "      <td>False</td>\n",
              "      <td>True</td>\n",
              "      <td>True</td>\n",
              "      <td>SIM</td>\n",
              "      <td>SERVICOS DE ARQUITETURA E ENGENHARIA TESTES E ...</td>\n",
              "      <td>ATIVIDADES PROFISSIONAIS CIENTIFICAS E TECNICAS</td>\n",
              "      <td>False</td>\n",
              "      <td>False</td>\n",
              "      <td>False</td>\n",
              "      <td>NaN</td>\n",
              "      <td>NaN</td>\n",
              "      <td>NaN</td>\n",
              "      <td>NaN</td>\n",
              "      <td>True</td>\n",
              "      <td>NaN</td>\n",
              "      <td>0.0</td>\n",
              "      <td>0.0</td>\n",
              "      <td>NaN</td>\n",
              "      <td>NaN</td>\n",
              "      <td>NaN</td>\n",
              "      <td>False</td>\n",
              "      <td>RN</td>\n",
              "      <td>VERDE</td>\n",
              "      <td>ACIMA DE 1 ANO</td>\n",
              "      <td>...</td>\n",
              "      <td>210000.0</td>\n",
              "      <td>210000.0</td>\n",
              "      <td>NaN</td>\n",
              "      <td>NaN</td>\n",
              "      <td>NaN</td>\n",
              "      <td>NaN</td>\n",
              "      <td>NaN</td>\n",
              "      <td>NaN</td>\n",
              "      <td>NaN</td>\n",
              "      <td>NaN</td>\n",
              "      <td>NaN</td>\n",
              "      <td>NaN</td>\n",
              "      <td>NaN</td>\n",
              "      <td>NaN</td>\n",
              "      <td>NaN</td>\n",
              "      <td>NaN</td>\n",
              "      <td>NaN</td>\n",
              "      <td>NaN</td>\n",
              "      <td>NaN</td>\n",
              "      <td>NaN</td>\n",
              "      <td>NaN</td>\n",
              "      <td>NaN</td>\n",
              "      <td>NaN</td>\n",
              "      <td>NaN</td>\n",
              "      <td>NaN</td>\n",
              "      <td>NaN</td>\n",
              "      <td>NaN</td>\n",
              "      <td>NaN</td>\n",
              "      <td>NaN</td>\n",
              "      <td>NaN</td>\n",
              "      <td>NaN</td>\n",
              "      <td>NaN</td>\n",
              "      <td>NaN</td>\n",
              "      <td>NaN</td>\n",
              "      <td>NaN</td>\n",
              "      <td>NaN</td>\n",
              "      <td>NaN</td>\n",
              "      <td>NaN</td>\n",
              "      <td>NaN</td>\n",
              "      <td>0</td>\n",
              "    </tr>\n",
              "  </tbody>\n",
              "</table>\n",
              "<p>5 rows × 182 columns</p>\n",
              "</div>"
            ],
            "text/plain": [
              "   Unnamed: 0  ... qt_filiais\n",
              "0           0  ...          0\n",
              "1           1  ...          0\n",
              "2           2  ...          0\n",
              "3           3  ...          0\n",
              "4           4  ...          0\n",
              "\n",
              "[5 rows x 182 columns]"
            ]
          },
          "metadata": {
            "tags": []
          },
          "execution_count": 4
        }
      ]
    },
    {
      "cell_type": "code",
      "metadata": {
        "id": "bw3nTz7crH95",
        "colab_type": "code",
        "colab": {
          "base_uri": "https://localhost:8080/",
          "height": 507
        },
        "outputId": "71b16bf7-3b25-4572-dd96-0b778e0e50c5"
      },
      "source": [
        "market_initial.describe(include=\"all\")"
      ],
      "execution_count": null,
      "outputs": [
        {
          "output_type": "execute_result",
          "data": {
            "text/html": [
              "<div>\n",
              "<style scoped>\n",
              "    .dataframe tbody tr th:only-of-type {\n",
              "        vertical-align: middle;\n",
              "    }\n",
              "\n",
              "    .dataframe tbody tr th {\n",
              "        vertical-align: top;\n",
              "    }\n",
              "\n",
              "    .dataframe thead th {\n",
              "        text-align: right;\n",
              "    }\n",
              "</style>\n",
              "<table border=\"1\" class=\"dataframe\">\n",
              "  <thead>\n",
              "    <tr style=\"text-align: right;\">\n",
              "      <th></th>\n",
              "      <th>Unnamed: 0</th>\n",
              "      <th>id</th>\n",
              "      <th>fl_matriz</th>\n",
              "      <th>de_natureza_juridica</th>\n",
              "      <th>sg_uf</th>\n",
              "      <th>natureza_juridica_macro</th>\n",
              "      <th>de_ramo</th>\n",
              "      <th>setor</th>\n",
              "      <th>idade_empresa_anos</th>\n",
              "      <th>idade_emp_cat</th>\n",
              "      <th>fl_me</th>\n",
              "      <th>fl_sa</th>\n",
              "      <th>fl_epp</th>\n",
              "      <th>fl_mei</th>\n",
              "      <th>fl_ltda</th>\n",
              "      <th>dt_situacao</th>\n",
              "      <th>fl_st_especial</th>\n",
              "      <th>fl_email</th>\n",
              "      <th>fl_telefone</th>\n",
              "      <th>fl_rm</th>\n",
              "      <th>nm_divisao</th>\n",
              "      <th>nm_segmento</th>\n",
              "      <th>fl_spa</th>\n",
              "      <th>fl_antt</th>\n",
              "      <th>fl_veiculo</th>\n",
              "      <th>vl_total_tancagem</th>\n",
              "      <th>vl_total_veiculos_antt</th>\n",
              "      <th>vl_total_veiculos_leves</th>\n",
              "      <th>vl_total_veiculos_pesados</th>\n",
              "      <th>fl_optante_simples</th>\n",
              "      <th>qt_art</th>\n",
              "      <th>vl_total_veiculos_pesados_grupo</th>\n",
              "      <th>vl_total_veiculos_leves_grupo</th>\n",
              "      <th>vl_total_tancagem_grupo</th>\n",
              "      <th>vl_total_veiculos_antt_grupo</th>\n",
              "      <th>vl_potenc_cons_oleo_gas</th>\n",
              "      <th>fl_optante_simei</th>\n",
              "      <th>sg_uf_matriz</th>\n",
              "      <th>de_saude_tributaria</th>\n",
              "      <th>de_saude_rescencia</th>\n",
              "      <th>...</th>\n",
              "      <th>vl_faturamento_estimado_aux</th>\n",
              "      <th>vl_faturamento_estimado_grupo_aux</th>\n",
              "      <th>qt_ex_funcionarios</th>\n",
              "      <th>qt_funcionarios_grupo</th>\n",
              "      <th>percent_func_genero_masc</th>\n",
              "      <th>percent_func_genero_fem</th>\n",
              "      <th>idade_ate_18</th>\n",
              "      <th>idade_de_19_a_23</th>\n",
              "      <th>idade_de_24_a_28</th>\n",
              "      <th>idade_de_29_a_33</th>\n",
              "      <th>idade_de_34_a_38</th>\n",
              "      <th>idade_de_39_a_43</th>\n",
              "      <th>idade_de_44_a_48</th>\n",
              "      <th>idade_de_49_a_53</th>\n",
              "      <th>idade_de_54_a_58</th>\n",
              "      <th>idade_acima_de_58</th>\n",
              "      <th>grau_instrucao_macro_analfabeto</th>\n",
              "      <th>grau_instrucao_macro_escolaridade_fundamental</th>\n",
              "      <th>grau_instrucao_macro_escolaridade_media</th>\n",
              "      <th>grau_instrucao_macro_escolaridade_superior</th>\n",
              "      <th>grau_instrucao_macro_desconhecido</th>\n",
              "      <th>total</th>\n",
              "      <th>meses_ultima_contratacaco</th>\n",
              "      <th>qt_admitidos_12meses</th>\n",
              "      <th>qt_desligados_12meses</th>\n",
              "      <th>qt_desligados</th>\n",
              "      <th>qt_admitidos</th>\n",
              "      <th>media_meses_servicos_all</th>\n",
              "      <th>max_meses_servicos_all</th>\n",
              "      <th>min_meses_servicos_all</th>\n",
              "      <th>media_meses_servicos</th>\n",
              "      <th>max_meses_servicos</th>\n",
              "      <th>min_meses_servicos</th>\n",
              "      <th>qt_funcionarios</th>\n",
              "      <th>qt_funcionarios_12meses</th>\n",
              "      <th>qt_funcionarios_24meses</th>\n",
              "      <th>tx_crescimento_12meses</th>\n",
              "      <th>tx_crescimento_24meses</th>\n",
              "      <th>tx_rotatividade</th>\n",
              "      <th>qt_filiais</th>\n",
              "    </tr>\n",
              "  </thead>\n",
              "  <tbody>\n",
              "    <tr>\n",
              "      <th>count</th>\n",
              "      <td>462298.00000</td>\n",
              "      <td>462298</td>\n",
              "      <td>462298</td>\n",
              "      <td>462298</td>\n",
              "      <td>462298</td>\n",
              "      <td>462298</td>\n",
              "      <td>462298</td>\n",
              "      <td>460371</td>\n",
              "      <td>462298.000000</td>\n",
              "      <td>462298</td>\n",
              "      <td>462298</td>\n",
              "      <td>462298</td>\n",
              "      <td>462298</td>\n",
              "      <td>462298</td>\n",
              "      <td>462298</td>\n",
              "      <td>462292</td>\n",
              "      <td>462298</td>\n",
              "      <td>462298</td>\n",
              "      <td>462298</td>\n",
              "      <td>462298</td>\n",
              "      <td>460371</td>\n",
              "      <td>460371</td>\n",
              "      <td>460371</td>\n",
              "      <td>460371</td>\n",
              "      <td>460371</td>\n",
              "      <td>280.000000</td>\n",
              "      <td>176.000000</td>\n",
              "      <td>30684.000000</td>\n",
              "      <td>30684.000000</td>\n",
              "      <td>379585</td>\n",
              "      <td>6590.000000</td>\n",
              "      <td>460371.000000</td>\n",
              "      <td>460371.000000</td>\n",
              "      <td>1760.000000</td>\n",
              "      <td>336.000000</td>\n",
              "      <td>3683.000000</td>\n",
              "      <td>379585</td>\n",
              "      <td>460359</td>\n",
              "      <td>447447</td>\n",
              "      <td>447447</td>\n",
              "      <td>...</td>\n",
              "      <td>4.347850e+05</td>\n",
              "      <td>4.347850e+05</td>\n",
              "      <td>115254.000000</td>\n",
              "      <td>1.152630e+05</td>\n",
              "      <td>75942.000000</td>\n",
              "      <td>75942.000000</td>\n",
              "      <td>2906.000000</td>\n",
              "      <td>25890.000000</td>\n",
              "      <td>38895.000000</td>\n",
              "      <td>40143.000000</td>\n",
              "      <td>36729.000000</td>\n",
              "      <td>30408.000000</td>\n",
              "      <td>24290.000000</td>\n",
              "      <td>19037.000000</td>\n",
              "      <td>13975.000000</td>\n",
              "      <td>11026.000000</td>\n",
              "      <td>1884.000000</td>\n",
              "      <td>24896.000000</td>\n",
              "      <td>67797.000000</td>\n",
              "      <td>22727.000000</td>\n",
              "      <td>0.0</td>\n",
              "      <td>75942.000000</td>\n",
              "      <td>103574.000000</td>\n",
              "      <td>103574.000000</td>\n",
              "      <td>103574.000000</td>\n",
              "      <td>103574.000000</td>\n",
              "      <td>103574.000000</td>\n",
              "      <td>103560.000000</td>\n",
              "      <td>103560.000000</td>\n",
              "      <td>103560.000000</td>\n",
              "      <td>76261.000000</td>\n",
              "      <td>76261.000000</td>\n",
              "      <td>76261.000000</td>\n",
              "      <td>103574.000000</td>\n",
              "      <td>103574.000000</td>\n",
              "      <td>103574.000000</td>\n",
              "      <td>73888.000000</td>\n",
              "      <td>74014.000000</td>\n",
              "      <td>103574.000000</td>\n",
              "      <td>462298.000000</td>\n",
              "    </tr>\n",
              "    <tr>\n",
              "      <th>unique</th>\n",
              "      <td>NaN</td>\n",
              "      <td>462298</td>\n",
              "      <td>2</td>\n",
              "      <td>67</td>\n",
              "      <td>6</td>\n",
              "      <td>7</td>\n",
              "      <td>33</td>\n",
              "      <td>5</td>\n",
              "      <td>NaN</td>\n",
              "      <td>6</td>\n",
              "      <td>2</td>\n",
              "      <td>2</td>\n",
              "      <td>1</td>\n",
              "      <td>2</td>\n",
              "      <td>2</td>\n",
              "      <td>7334</td>\n",
              "      <td>2</td>\n",
              "      <td>2</td>\n",
              "      <td>2</td>\n",
              "      <td>2</td>\n",
              "      <td>87</td>\n",
              "      <td>21</td>\n",
              "      <td>2</td>\n",
              "      <td>2</td>\n",
              "      <td>2</td>\n",
              "      <td>NaN</td>\n",
              "      <td>NaN</td>\n",
              "      <td>NaN</td>\n",
              "      <td>NaN</td>\n",
              "      <td>2</td>\n",
              "      <td>NaN</td>\n",
              "      <td>NaN</td>\n",
              "      <td>NaN</td>\n",
              "      <td>NaN</td>\n",
              "      <td>NaN</td>\n",
              "      <td>NaN</td>\n",
              "      <td>2</td>\n",
              "      <td>27</td>\n",
              "      <td>6</td>\n",
              "      <td>5</td>\n",
              "      <td>...</td>\n",
              "      <td>NaN</td>\n",
              "      <td>NaN</td>\n",
              "      <td>NaN</td>\n",
              "      <td>NaN</td>\n",
              "      <td>NaN</td>\n",
              "      <td>NaN</td>\n",
              "      <td>NaN</td>\n",
              "      <td>NaN</td>\n",
              "      <td>NaN</td>\n",
              "      <td>NaN</td>\n",
              "      <td>NaN</td>\n",
              "      <td>NaN</td>\n",
              "      <td>NaN</td>\n",
              "      <td>NaN</td>\n",
              "      <td>NaN</td>\n",
              "      <td>NaN</td>\n",
              "      <td>NaN</td>\n",
              "      <td>NaN</td>\n",
              "      <td>NaN</td>\n",
              "      <td>NaN</td>\n",
              "      <td>NaN</td>\n",
              "      <td>NaN</td>\n",
              "      <td>NaN</td>\n",
              "      <td>NaN</td>\n",
              "      <td>NaN</td>\n",
              "      <td>NaN</td>\n",
              "      <td>NaN</td>\n",
              "      <td>NaN</td>\n",
              "      <td>NaN</td>\n",
              "      <td>NaN</td>\n",
              "      <td>NaN</td>\n",
              "      <td>NaN</td>\n",
              "      <td>NaN</td>\n",
              "      <td>NaN</td>\n",
              "      <td>NaN</td>\n",
              "      <td>NaN</td>\n",
              "      <td>NaN</td>\n",
              "      <td>NaN</td>\n",
              "      <td>NaN</td>\n",
              "      <td>NaN</td>\n",
              "    </tr>\n",
              "    <tr>\n",
              "      <th>top</th>\n",
              "      <td>NaN</td>\n",
              "      <td>c7ce35844785fda3bde6aac530554621a18a6a3506038c...</td>\n",
              "      <td>True</td>\n",
              "      <td>EMPRESARIO INDIVIDUAL</td>\n",
              "      <td>MA</td>\n",
              "      <td>OUTROS</td>\n",
              "      <td>COMERCIO VAREJISTA</td>\n",
              "      <td>COMERCIO</td>\n",
              "      <td>NaN</td>\n",
              "      <td>1 a 5</td>\n",
              "      <td>False</td>\n",
              "      <td>False</td>\n",
              "      <td>False</td>\n",
              "      <td>False</td>\n",
              "      <td>False</td>\n",
              "      <td>2005-11-03</td>\n",
              "      <td>False</td>\n",
              "      <td>False</td>\n",
              "      <td>True</td>\n",
              "      <td>NAO</td>\n",
              "      <td>COMERCIO VAREJISTA</td>\n",
              "      <td>COMERCIO; REPARACAO DE VEICULOS AUTOMOTORES E ...</td>\n",
              "      <td>False</td>\n",
              "      <td>False</td>\n",
              "      <td>False</td>\n",
              "      <td>NaN</td>\n",
              "      <td>NaN</td>\n",
              "      <td>NaN</td>\n",
              "      <td>NaN</td>\n",
              "      <td>True</td>\n",
              "      <td>NaN</td>\n",
              "      <td>NaN</td>\n",
              "      <td>NaN</td>\n",
              "      <td>NaN</td>\n",
              "      <td>NaN</td>\n",
              "      <td>NaN</td>\n",
              "      <td>False</td>\n",
              "      <td>MA</td>\n",
              "      <td>VERDE</td>\n",
              "      <td>ACIMA DE 1 ANO</td>\n",
              "      <td>...</td>\n",
              "      <td>NaN</td>\n",
              "      <td>NaN</td>\n",
              "      <td>NaN</td>\n",
              "      <td>NaN</td>\n",
              "      <td>NaN</td>\n",
              "      <td>NaN</td>\n",
              "      <td>NaN</td>\n",
              "      <td>NaN</td>\n",
              "      <td>NaN</td>\n",
              "      <td>NaN</td>\n",
              "      <td>NaN</td>\n",
              "      <td>NaN</td>\n",
              "      <td>NaN</td>\n",
              "      <td>NaN</td>\n",
              "      <td>NaN</td>\n",
              "      <td>NaN</td>\n",
              "      <td>NaN</td>\n",
              "      <td>NaN</td>\n",
              "      <td>NaN</td>\n",
              "      <td>NaN</td>\n",
              "      <td>NaN</td>\n",
              "      <td>NaN</td>\n",
              "      <td>NaN</td>\n",
              "      <td>NaN</td>\n",
              "      <td>NaN</td>\n",
              "      <td>NaN</td>\n",
              "      <td>NaN</td>\n",
              "      <td>NaN</td>\n",
              "      <td>NaN</td>\n",
              "      <td>NaN</td>\n",
              "      <td>NaN</td>\n",
              "      <td>NaN</td>\n",
              "      <td>NaN</td>\n",
              "      <td>NaN</td>\n",
              "      <td>NaN</td>\n",
              "      <td>NaN</td>\n",
              "      <td>NaN</td>\n",
              "      <td>NaN</td>\n",
              "      <td>NaN</td>\n",
              "      <td>NaN</td>\n",
              "    </tr>\n",
              "    <tr>\n",
              "      <th>freq</th>\n",
              "      <td>NaN</td>\n",
              "      <td>1</td>\n",
              "      <td>433232</td>\n",
              "      <td>295756</td>\n",
              "      <td>127654</td>\n",
              "      <td>320211</td>\n",
              "      <td>172404</td>\n",
              "      <td>211224</td>\n",
              "      <td>NaN</td>\n",
              "      <td>138580</td>\n",
              "      <td>461083</td>\n",
              "      <td>453866</td>\n",
              "      <td>462298</td>\n",
              "      <td>311398</td>\n",
              "      <td>461056</td>\n",
              "      <td>69465</td>\n",
              "      <td>462230</td>\n",
              "      <td>256228</td>\n",
              "      <td>335468</td>\n",
              "      <td>236779</td>\n",
              "      <td>172404</td>\n",
              "      <td>211224</td>\n",
              "      <td>460091</td>\n",
              "      <td>457095</td>\n",
              "      <td>429687</td>\n",
              "      <td>NaN</td>\n",
              "      <td>NaN</td>\n",
              "      <td>NaN</td>\n",
              "      <td>NaN</td>\n",
              "      <td>199617</td>\n",
              "      <td>NaN</td>\n",
              "      <td>NaN</td>\n",
              "      <td>NaN</td>\n",
              "      <td>NaN</td>\n",
              "      <td>NaN</td>\n",
              "      <td>NaN</td>\n",
              "      <td>285545</td>\n",
              "      <td>124823</td>\n",
              "      <td>145430</td>\n",
              "      <td>378896</td>\n",
              "      <td>...</td>\n",
              "      <td>NaN</td>\n",
              "      <td>NaN</td>\n",
              "      <td>NaN</td>\n",
              "      <td>NaN</td>\n",
              "      <td>NaN</td>\n",
              "      <td>NaN</td>\n",
              "      <td>NaN</td>\n",
              "      <td>NaN</td>\n",
              "      <td>NaN</td>\n",
              "      <td>NaN</td>\n",
              "      <td>NaN</td>\n",
              "      <td>NaN</td>\n",
              "      <td>NaN</td>\n",
              "      <td>NaN</td>\n",
              "      <td>NaN</td>\n",
              "      <td>NaN</td>\n",
              "      <td>NaN</td>\n",
              "      <td>NaN</td>\n",
              "      <td>NaN</td>\n",
              "      <td>NaN</td>\n",
              "      <td>NaN</td>\n",
              "      <td>NaN</td>\n",
              "      <td>NaN</td>\n",
              "      <td>NaN</td>\n",
              "      <td>NaN</td>\n",
              "      <td>NaN</td>\n",
              "      <td>NaN</td>\n",
              "      <td>NaN</td>\n",
              "      <td>NaN</td>\n",
              "      <td>NaN</td>\n",
              "      <td>NaN</td>\n",
              "      <td>NaN</td>\n",
              "      <td>NaN</td>\n",
              "      <td>NaN</td>\n",
              "      <td>NaN</td>\n",
              "      <td>NaN</td>\n",
              "      <td>NaN</td>\n",
              "      <td>NaN</td>\n",
              "      <td>NaN</td>\n",
              "      <td>NaN</td>\n",
              "    </tr>\n",
              "    <tr>\n",
              "      <th>mean</th>\n",
              "      <td>231148.50000</td>\n",
              "      <td>NaN</td>\n",
              "      <td>NaN</td>\n",
              "      <td>NaN</td>\n",
              "      <td>NaN</td>\n",
              "      <td>NaN</td>\n",
              "      <td>NaN</td>\n",
              "      <td>NaN</td>\n",
              "      <td>9.948677</td>\n",
              "      <td>NaN</td>\n",
              "      <td>NaN</td>\n",
              "      <td>NaN</td>\n",
              "      <td>NaN</td>\n",
              "      <td>NaN</td>\n",
              "      <td>NaN</td>\n",
              "      <td>NaN</td>\n",
              "      <td>NaN</td>\n",
              "      <td>NaN</td>\n",
              "      <td>NaN</td>\n",
              "      <td>NaN</td>\n",
              "      <td>NaN</td>\n",
              "      <td>NaN</td>\n",
              "      <td>NaN</td>\n",
              "      <td>NaN</td>\n",
              "      <td>NaN</td>\n",
              "      <td>32.014286</td>\n",
              "      <td>3.818182</td>\n",
              "      <td>2.244329</td>\n",
              "      <td>1.177813</td>\n",
              "      <td>NaN</td>\n",
              "      <td>5.769044</td>\n",
              "      <td>3.591801</td>\n",
              "      <td>48.699177</td>\n",
              "      <td>134.597159</td>\n",
              "      <td>15.934524</td>\n",
              "      <td>15.892131</td>\n",
              "      <td>NaN</td>\n",
              "      <td>NaN</td>\n",
              "      <td>NaN</td>\n",
              "      <td>NaN</td>\n",
              "      <td>...</td>\n",
              "      <td>8.020911e+05</td>\n",
              "      <td>3.367205e+08</td>\n",
              "      <td>24.838418</td>\n",
              "      <td>1.109122e+04</td>\n",
              "      <td>55.699435</td>\n",
              "      <td>44.300577</td>\n",
              "      <td>2.197866</td>\n",
              "      <td>3.544998</td>\n",
              "      <td>4.247384</td>\n",
              "      <td>5.158932</td>\n",
              "      <td>5.634186</td>\n",
              "      <td>5.664661</td>\n",
              "      <td>5.480939</td>\n",
              "      <td>5.758155</td>\n",
              "      <td>6.115063</td>\n",
              "      <td>8.240522</td>\n",
              "      <td>2.248938</td>\n",
              "      <td>8.246465</td>\n",
              "      <td>11.496128</td>\n",
              "      <td>12.310336</td>\n",
              "      <td>NaN</td>\n",
              "      <td>16.706447</td>\n",
              "      <td>43.192861</td>\n",
              "      <td>2.101029</td>\n",
              "      <td>1.853148</td>\n",
              "      <td>27.698110</td>\n",
              "      <td>40.022679</td>\n",
              "      <td>41.965123</td>\n",
              "      <td>155.569411</td>\n",
              "      <td>16.200192</td>\n",
              "      <td>58.060498</td>\n",
              "      <td>96.661983</td>\n",
              "      <td>36.258851</td>\n",
              "      <td>12.324570</td>\n",
              "      <td>12.178529</td>\n",
              "      <td>14.343329</td>\n",
              "      <td>3.097607</td>\n",
              "      <td>-5.834288</td>\n",
              "      <td>9.510699</td>\n",
              "      <td>28.737044</td>\n",
              "    </tr>\n",
              "    <tr>\n",
              "      <th>std</th>\n",
              "      <td>133454.08171</td>\n",
              "      <td>NaN</td>\n",
              "      <td>NaN</td>\n",
              "      <td>NaN</td>\n",
              "      <td>NaN</td>\n",
              "      <td>NaN</td>\n",
              "      <td>NaN</td>\n",
              "      <td>NaN</td>\n",
              "      <td>9.615664</td>\n",
              "      <td>NaN</td>\n",
              "      <td>NaN</td>\n",
              "      <td>NaN</td>\n",
              "      <td>NaN</td>\n",
              "      <td>NaN</td>\n",
              "      <td>NaN</td>\n",
              "      <td>NaN</td>\n",
              "      <td>NaN</td>\n",
              "      <td>NaN</td>\n",
              "      <td>NaN</td>\n",
              "      <td>NaN</td>\n",
              "      <td>NaN</td>\n",
              "      <td>NaN</td>\n",
              "      <td>NaN</td>\n",
              "      <td>NaN</td>\n",
              "      <td>NaN</td>\n",
              "      <td>81.280168</td>\n",
              "      <td>6.797555</td>\n",
              "      <td>9.572536</td>\n",
              "      <td>6.589059</td>\n",
              "      <td>NaN</td>\n",
              "      <td>25.450950</td>\n",
              "      <td>72.600352</td>\n",
              "      <td>1206.696804</td>\n",
              "      <td>683.774506</td>\n",
              "      <td>29.708663</td>\n",
              "      <td>75.230681</td>\n",
              "      <td>NaN</td>\n",
              "      <td>NaN</td>\n",
              "      <td>NaN</td>\n",
              "      <td>NaN</td>\n",
              "      <td>...</td>\n",
              "      <td>3.099979e+07</td>\n",
              "      <td>7.114614e+09</td>\n",
              "      <td>192.458811</td>\n",
              "      <td>1.390161e+05</td>\n",
              "      <td>39.044407</td>\n",
              "      <td>39.044406</td>\n",
              "      <td>6.295785</td>\n",
              "      <td>20.727621</td>\n",
              "      <td>18.338771</td>\n",
              "      <td>30.416582</td>\n",
              "      <td>47.295036</td>\n",
              "      <td>53.753634</td>\n",
              "      <td>61.386164</td>\n",
              "      <td>86.572192</td>\n",
              "      <td>98.780740</td>\n",
              "      <td>133.597202</td>\n",
              "      <td>6.916321</td>\n",
              "      <td>76.710297</td>\n",
              "      <td>153.454754</td>\n",
              "      <td>163.623024</td>\n",
              "      <td>NaN</td>\n",
              "      <td>259.468814</td>\n",
              "      <td>123.945569</td>\n",
              "      <td>17.377796</td>\n",
              "      <td>15.590181</td>\n",
              "      <td>203.031275</td>\n",
              "      <td>377.411763</td>\n",
              "      <td>153.874093</td>\n",
              "      <td>637.850983</td>\n",
              "      <td>120.269302</td>\n",
              "      <td>142.951278</td>\n",
              "      <td>279.541243</td>\n",
              "      <td>123.411370</td>\n",
              "      <td>222.456579</td>\n",
              "      <td>222.584458</td>\n",
              "      <td>239.885359</td>\n",
              "      <td>163.581549</td>\n",
              "      <td>443.825819</td>\n",
              "      <td>27.918737</td>\n",
              "      <td>468.626094</td>\n",
              "    </tr>\n",
              "    <tr>\n",
              "      <th>min</th>\n",
              "      <td>0.00000</td>\n",
              "      <td>NaN</td>\n",
              "      <td>NaN</td>\n",
              "      <td>NaN</td>\n",
              "      <td>NaN</td>\n",
              "      <td>NaN</td>\n",
              "      <td>NaN</td>\n",
              "      <td>NaN</td>\n",
              "      <td>0.016438</td>\n",
              "      <td>NaN</td>\n",
              "      <td>NaN</td>\n",
              "      <td>NaN</td>\n",
              "      <td>NaN</td>\n",
              "      <td>NaN</td>\n",
              "      <td>NaN</td>\n",
              "      <td>NaN</td>\n",
              "      <td>NaN</td>\n",
              "      <td>NaN</td>\n",
              "      <td>NaN</td>\n",
              "      <td>NaN</td>\n",
              "      <td>NaN</td>\n",
              "      <td>NaN</td>\n",
              "      <td>NaN</td>\n",
              "      <td>NaN</td>\n",
              "      <td>NaN</td>\n",
              "      <td>1.000000</td>\n",
              "      <td>0.000000</td>\n",
              "      <td>0.000000</td>\n",
              "      <td>0.000000</td>\n",
              "      <td>NaN</td>\n",
              "      <td>1.000000</td>\n",
              "      <td>0.000000</td>\n",
              "      <td>0.000000</td>\n",
              "      <td>1.000000</td>\n",
              "      <td>0.000000</td>\n",
              "      <td>1.000000</td>\n",
              "      <td>NaN</td>\n",
              "      <td>NaN</td>\n",
              "      <td>NaN</td>\n",
              "      <td>NaN</td>\n",
              "      <td>...</td>\n",
              "      <td>0.000000e+00</td>\n",
              "      <td>4.104703e+04</td>\n",
              "      <td>0.000000</td>\n",
              "      <td>0.000000e+00</td>\n",
              "      <td>0.000000</td>\n",
              "      <td>0.000000</td>\n",
              "      <td>1.000000</td>\n",
              "      <td>1.000000</td>\n",
              "      <td>1.000000</td>\n",
              "      <td>1.000000</td>\n",
              "      <td>1.000000</td>\n",
              "      <td>1.000000</td>\n",
              "      <td>1.000000</td>\n",
              "      <td>1.000000</td>\n",
              "      <td>1.000000</td>\n",
              "      <td>1.000000</td>\n",
              "      <td>1.000000</td>\n",
              "      <td>1.000000</td>\n",
              "      <td>1.000000</td>\n",
              "      <td>1.000000</td>\n",
              "      <td>NaN</td>\n",
              "      <td>1.000000</td>\n",
              "      <td>1.933333</td>\n",
              "      <td>0.000000</td>\n",
              "      <td>0.000000</td>\n",
              "      <td>0.000000</td>\n",
              "      <td>1.000000</td>\n",
              "      <td>-102.466667</td>\n",
              "      <td>-102.466667</td>\n",
              "      <td>-102.466667</td>\n",
              "      <td>1.933333</td>\n",
              "      <td>1.933333</td>\n",
              "      <td>1.933333</td>\n",
              "      <td>0.000000</td>\n",
              "      <td>0.000000</td>\n",
              "      <td>0.000000</td>\n",
              "      <td>-100.000000</td>\n",
              "      <td>-100.000000</td>\n",
              "      <td>0.000000</td>\n",
              "      <td>0.000000</td>\n",
              "    </tr>\n",
              "    <tr>\n",
              "      <th>25%</th>\n",
              "      <td>115574.25000</td>\n",
              "      <td>NaN</td>\n",
              "      <td>NaN</td>\n",
              "      <td>NaN</td>\n",
              "      <td>NaN</td>\n",
              "      <td>NaN</td>\n",
              "      <td>NaN</td>\n",
              "      <td>NaN</td>\n",
              "      <td>2.756164</td>\n",
              "      <td>NaN</td>\n",
              "      <td>NaN</td>\n",
              "      <td>NaN</td>\n",
              "      <td>NaN</td>\n",
              "      <td>NaN</td>\n",
              "      <td>NaN</td>\n",
              "      <td>NaN</td>\n",
              "      <td>NaN</td>\n",
              "      <td>NaN</td>\n",
              "      <td>NaN</td>\n",
              "      <td>NaN</td>\n",
              "      <td>NaN</td>\n",
              "      <td>NaN</td>\n",
              "      <td>NaN</td>\n",
              "      <td>NaN</td>\n",
              "      <td>NaN</td>\n",
              "      <td>15.000000</td>\n",
              "      <td>1.000000</td>\n",
              "      <td>0.000000</td>\n",
              "      <td>0.000000</td>\n",
              "      <td>NaN</td>\n",
              "      <td>1.000000</td>\n",
              "      <td>0.000000</td>\n",
              "      <td>0.000000</td>\n",
              "      <td>15.000000</td>\n",
              "      <td>1.000000</td>\n",
              "      <td>2.000000</td>\n",
              "      <td>NaN</td>\n",
              "      <td>NaN</td>\n",
              "      <td>NaN</td>\n",
              "      <td>NaN</td>\n",
              "      <td>...</td>\n",
              "      <td>1.648512e+05</td>\n",
              "      <td>1.854576e+05</td>\n",
              "      <td>1.000000</td>\n",
              "      <td>1.000000e+00</td>\n",
              "      <td>16.670000</td>\n",
              "      <td>0.000000</td>\n",
              "      <td>1.000000</td>\n",
              "      <td>1.000000</td>\n",
              "      <td>1.000000</td>\n",
              "      <td>1.000000</td>\n",
              "      <td>1.000000</td>\n",
              "      <td>1.000000</td>\n",
              "      <td>1.000000</td>\n",
              "      <td>1.000000</td>\n",
              "      <td>1.000000</td>\n",
              "      <td>1.000000</td>\n",
              "      <td>1.000000</td>\n",
              "      <td>1.000000</td>\n",
              "      <td>1.000000</td>\n",
              "      <td>1.000000</td>\n",
              "      <td>NaN</td>\n",
              "      <td>1.000000</td>\n",
              "      <td>9.300000</td>\n",
              "      <td>0.000000</td>\n",
              "      <td>0.000000</td>\n",
              "      <td>1.000000</td>\n",
              "      <td>2.000000</td>\n",
              "      <td>14.066667</td>\n",
              "      <td>25.366667</td>\n",
              "      <td>1.000000</td>\n",
              "      <td>25.203704</td>\n",
              "      <td>33.333333</td>\n",
              "      <td>6.966667</td>\n",
              "      <td>0.000000</td>\n",
              "      <td>0.000000</td>\n",
              "      <td>0.000000</td>\n",
              "      <td>0.000000</td>\n",
              "      <td>-44.444444</td>\n",
              "      <td>0.000000</td>\n",
              "      <td>0.000000</td>\n",
              "    </tr>\n",
              "    <tr>\n",
              "      <th>50%</th>\n",
              "      <td>231148.50000</td>\n",
              "      <td>NaN</td>\n",
              "      <td>NaN</td>\n",
              "      <td>NaN</td>\n",
              "      <td>NaN</td>\n",
              "      <td>NaN</td>\n",
              "      <td>NaN</td>\n",
              "      <td>NaN</td>\n",
              "      <td>6.704110</td>\n",
              "      <td>NaN</td>\n",
              "      <td>NaN</td>\n",
              "      <td>NaN</td>\n",
              "      <td>NaN</td>\n",
              "      <td>NaN</td>\n",
              "      <td>NaN</td>\n",
              "      <td>NaN</td>\n",
              "      <td>NaN</td>\n",
              "      <td>NaN</td>\n",
              "      <td>NaN</td>\n",
              "      <td>NaN</td>\n",
              "      <td>NaN</td>\n",
              "      <td>NaN</td>\n",
              "      <td>NaN</td>\n",
              "      <td>NaN</td>\n",
              "      <td>NaN</td>\n",
              "      <td>15.000000</td>\n",
              "      <td>2.000000</td>\n",
              "      <td>1.000000</td>\n",
              "      <td>0.000000</td>\n",
              "      <td>NaN</td>\n",
              "      <td>2.000000</td>\n",
              "      <td>0.000000</td>\n",
              "      <td>0.000000</td>\n",
              "      <td>15.000000</td>\n",
              "      <td>3.000000</td>\n",
              "      <td>4.000000</td>\n",
              "      <td>NaN</td>\n",
              "      <td>NaN</td>\n",
              "      <td>NaN</td>\n",
              "      <td>NaN</td>\n",
              "      <td>...</td>\n",
              "      <td>2.100000e+05</td>\n",
              "      <td>2.100000e+05</td>\n",
              "      <td>3.000000</td>\n",
              "      <td>2.000000e+00</td>\n",
              "      <td>60.000000</td>\n",
              "      <td>40.000000</td>\n",
              "      <td>1.000000</td>\n",
              "      <td>1.000000</td>\n",
              "      <td>2.000000</td>\n",
              "      <td>2.000000</td>\n",
              "      <td>1.000000</td>\n",
              "      <td>1.000000</td>\n",
              "      <td>1.000000</td>\n",
              "      <td>1.000000</td>\n",
              "      <td>1.000000</td>\n",
              "      <td>1.000000</td>\n",
              "      <td>1.000000</td>\n",
              "      <td>2.000000</td>\n",
              "      <td>3.000000</td>\n",
              "      <td>1.000000</td>\n",
              "      <td>NaN</td>\n",
              "      <td>3.000000</td>\n",
              "      <td>30.300000</td>\n",
              "      <td>0.000000</td>\n",
              "      <td>0.000000</td>\n",
              "      <td>4.000000</td>\n",
              "      <td>6.000000</td>\n",
              "      <td>23.977778</td>\n",
              "      <td>53.666667</td>\n",
              "      <td>4.066667</td>\n",
              "      <td>43.533333</td>\n",
              "      <td>61.766667</td>\n",
              "      <td>23.200000</td>\n",
              "      <td>2.000000</td>\n",
              "      <td>2.000000</td>\n",
              "      <td>2.000000</td>\n",
              "      <td>0.000000</td>\n",
              "      <td>0.000000</td>\n",
              "      <td>0.000000</td>\n",
              "      <td>0.000000</td>\n",
              "    </tr>\n",
              "    <tr>\n",
              "      <th>75%</th>\n",
              "      <td>346722.75000</td>\n",
              "      <td>NaN</td>\n",
              "      <td>NaN</td>\n",
              "      <td>NaN</td>\n",
              "      <td>NaN</td>\n",
              "      <td>NaN</td>\n",
              "      <td>NaN</td>\n",
              "      <td>NaN</td>\n",
              "      <td>14.465753</td>\n",
              "      <td>NaN</td>\n",
              "      <td>NaN</td>\n",
              "      <td>NaN</td>\n",
              "      <td>NaN</td>\n",
              "      <td>NaN</td>\n",
              "      <td>NaN</td>\n",
              "      <td>NaN</td>\n",
              "      <td>NaN</td>\n",
              "      <td>NaN</td>\n",
              "      <td>NaN</td>\n",
              "      <td>NaN</td>\n",
              "      <td>NaN</td>\n",
              "      <td>NaN</td>\n",
              "      <td>NaN</td>\n",
              "      <td>NaN</td>\n",
              "      <td>NaN</td>\n",
              "      <td>30.000000</td>\n",
              "      <td>4.000000</td>\n",
              "      <td>2.000000</td>\n",
              "      <td>1.000000</td>\n",
              "      <td>NaN</td>\n",
              "      <td>4.000000</td>\n",
              "      <td>0.000000</td>\n",
              "      <td>0.000000</td>\n",
              "      <td>66.250000</td>\n",
              "      <td>8.000000</td>\n",
              "      <td>10.000000</td>\n",
              "      <td>NaN</td>\n",
              "      <td>NaN</td>\n",
              "      <td>NaN</td>\n",
              "      <td>NaN</td>\n",
              "      <td>...</td>\n",
              "      <td>2.100000e+05</td>\n",
              "      <td>2.100000e+05</td>\n",
              "      <td>11.000000</td>\n",
              "      <td>9.000000e+00</td>\n",
              "      <td>100.000000</td>\n",
              "      <td>83.330000</td>\n",
              "      <td>2.000000</td>\n",
              "      <td>3.000000</td>\n",
              "      <td>3.000000</td>\n",
              "      <td>3.000000</td>\n",
              "      <td>3.000000</td>\n",
              "      <td>3.000000</td>\n",
              "      <td>2.000000</td>\n",
              "      <td>2.000000</td>\n",
              "      <td>2.000000</td>\n",
              "      <td>2.000000</td>\n",
              "      <td>2.000000</td>\n",
              "      <td>4.000000</td>\n",
              "      <td>6.000000</td>\n",
              "      <td>4.000000</td>\n",
              "      <td>NaN</td>\n",
              "      <td>8.000000</td>\n",
              "      <td>58.700000</td>\n",
              "      <td>1.000000</td>\n",
              "      <td>1.000000</td>\n",
              "      <td>13.000000</td>\n",
              "      <td>19.000000</td>\n",
              "      <td>40.033333</td>\n",
              "      <td>95.166667</td>\n",
              "      <td>13.200000</td>\n",
              "      <td>68.883333</td>\n",
              "      <td>96.266667</td>\n",
              "      <td>46.500000</td>\n",
              "      <td>5.000000</td>\n",
              "      <td>5.000000</td>\n",
              "      <td>6.000000</td>\n",
              "      <td>0.000000</td>\n",
              "      <td>0.000000</td>\n",
              "      <td>0.000000</td>\n",
              "      <td>0.000000</td>\n",
              "    </tr>\n",
              "    <tr>\n",
              "      <th>max</th>\n",
              "      <td>462297.00000</td>\n",
              "      <td>NaN</td>\n",
              "      <td>NaN</td>\n",
              "      <td>NaN</td>\n",
              "      <td>NaN</td>\n",
              "      <td>NaN</td>\n",
              "      <td>NaN</td>\n",
              "      <td>NaN</td>\n",
              "      <td>106.432877</td>\n",
              "      <td>NaN</td>\n",
              "      <td>NaN</td>\n",
              "      <td>NaN</td>\n",
              "      <td>NaN</td>\n",
              "      <td>NaN</td>\n",
              "      <td>NaN</td>\n",
              "      <td>NaN</td>\n",
              "      <td>NaN</td>\n",
              "      <td>NaN</td>\n",
              "      <td>NaN</td>\n",
              "      <td>NaN</td>\n",
              "      <td>NaN</td>\n",
              "      <td>NaN</td>\n",
              "      <td>NaN</td>\n",
              "      <td>NaN</td>\n",
              "      <td>NaN</td>\n",
              "      <td>1215.000000</td>\n",
              "      <td>50.000000</td>\n",
              "      <td>489.000000</td>\n",
              "      <td>363.000000</td>\n",
              "      <td>NaN</td>\n",
              "      <td>1017.000000</td>\n",
              "      <td>9782.000000</td>\n",
              "      <td>122090.000000</td>\n",
              "      <td>11922.000000</td>\n",
              "      <td>108.000000</td>\n",
              "      <td>3645.000000</td>\n",
              "      <td>NaN</td>\n",
              "      <td>NaN</td>\n",
              "      <td>NaN</td>\n",
              "      <td>NaN</td>\n",
              "      <td>...</td>\n",
              "      <td>1.454662e+10</td>\n",
              "      <td>2.227618e+11</td>\n",
              "      <td>21555.000000</td>\n",
              "      <td>2.668728e+06</td>\n",
              "      <td>100.000000</td>\n",
              "      <td>100.000000</td>\n",
              "      <td>258.000000</td>\n",
              "      <td>2326.000000</td>\n",
              "      <td>1382.000000</td>\n",
              "      <td>3379.000000</td>\n",
              "      <td>6500.000000</td>\n",
              "      <td>6744.000000</td>\n",
              "      <td>6572.000000</td>\n",
              "      <td>9578.000000</td>\n",
              "      <td>9094.000000</td>\n",
              "      <td>9086.000000</td>\n",
              "      <td>196.000000</td>\n",
              "      <td>8161.000000</td>\n",
              "      <td>25071.000000</td>\n",
              "      <td>20616.000000</td>\n",
              "      <td>NaN</td>\n",
              "      <td>51540.000000</td>\n",
              "      <td>5099.066667</td>\n",
              "      <td>1957.000000</td>\n",
              "      <td>2230.000000</td>\n",
              "      <td>21565.000000</td>\n",
              "      <td>71748.000000</td>\n",
              "      <td>5099.066667</td>\n",
              "      <td>5099.066667</td>\n",
              "      <td>5099.066667</td>\n",
              "      <td>5099.066667</td>\n",
              "      <td>5099.066667</td>\n",
              "      <td>5099.066667</td>\n",
              "      <td>51547.000000</td>\n",
              "      <td>51547.000000</td>\n",
              "      <td>54205.000000</td>\n",
              "      <td>27800.000000</td>\n",
              "      <td>87300.000000</td>\n",
              "      <td>1400.000000</td>\n",
              "      <td>9647.000000</td>\n",
              "    </tr>\n",
              "  </tbody>\n",
              "</table>\n",
              "<p>11 rows × 182 columns</p>\n",
              "</div>"
            ],
            "text/plain": [
              "          Unnamed: 0  ...     qt_filiais\n",
              "count   462298.00000  ...  462298.000000\n",
              "unique           NaN  ...            NaN\n",
              "top              NaN  ...            NaN\n",
              "freq             NaN  ...            NaN\n",
              "mean    231148.50000  ...      28.737044\n",
              "std     133454.08171  ...     468.626094\n",
              "min          0.00000  ...       0.000000\n",
              "25%     115574.25000  ...       0.000000\n",
              "50%     231148.50000  ...       0.000000\n",
              "75%     346722.75000  ...       0.000000\n",
              "max     462297.00000  ...    9647.000000\n",
              "\n",
              "[11 rows x 182 columns]"
            ]
          },
          "metadata": {
            "tags": []
          },
          "execution_count": 5
        }
      ]
    },
    {
      "cell_type": "markdown",
      "metadata": {
        "id": "FqdMSLk4pPZA",
        "colab_type": "text"
      },
      "source": [
        "* Unnamed e id são colunas sem informação.\n",
        "* de_natureza_juridica é categórica\n",
        "* ver de_natureza_juridica x natureza_juridica_macro\n",
        "* ramo x setor\n",
        "* idade empresa em anos x categoria\n",
        "* algumas variáveis fl_ quase n tem termos diferentes\n",
        "* fl_epp é toda False\n",
        "* fl_situacao_especial parece ser interessante mas quase não tem valores diferentes\n",
        "* dt_situação parece fazer pouco sentido pq existem outras variáveis de tempo da empresa\n",
        "* nm_divisao x nm_segmento\n",
        "* fl_spa e fl_antt muito poucos valores diferentes. fl veiculo considerada.\n",
        "* vl_ podem ser descartadas. principalmente as duas primeiras\n",
        "\n",
        "* não precisa ter percentagem masculino e feminino\n",
        "* talvez trocar stado por região ou eliminar. Variáveis demais.\n",
        "\n",
        "Mas antes olhar NAs e valores muito parecidos."
      ]
    },
    {
      "cell_type": "code",
      "metadata": {
        "id": "8VMnqPjiqIIY",
        "colab_type": "code",
        "colab": {}
      },
      "source": [
        "market = market_initial.drop(['Unnamed: 0', 'id'], axis=1)"
      ],
      "execution_count": null,
      "outputs": []
    },
    {
      "cell_type": "code",
      "metadata": {
        "id": "vCnCE716q95N",
        "colab_type": "code",
        "colab": {}
      },
      "source": [
        "isna_columns = market.isna().sum().sort_values(ascending=False)\n",
        "isna_columns = isna_columns[isna_columns > 462298*.80].index"
      ],
      "execution_count": null,
      "outputs": []
    },
    {
      "cell_type": "markdown",
      "metadata": {
        "id": "7ih-OGluovSs",
        "colab_type": "text"
      },
      "source": [
        "Colunas com mais de 80% de NAs serão retiradas sem consideração. Outras variváveis serão olhadas para análise."
      ]
    },
    {
      "cell_type": "code",
      "metadata": {
        "id": "zRVPxOTyp-Fi",
        "colab_type": "code",
        "colab": {}
      },
      "source": [
        "market.drop(isna_columns, axis=1, inplace=True)"
      ],
      "execution_count": null,
      "outputs": []
    },
    {
      "cell_type": "markdown",
      "metadata": {
        "id": "3r3Y3mIN58T3",
        "colab_type": "text"
      },
      "source": [
        "Alguma variável categórica muito dominada por uma categoria?"
      ]
    },
    {
      "cell_type": "code",
      "metadata": {
        "id": "Z4ynym8l6EZL",
        "colab_type": "code",
        "colab": {}
      },
      "source": [
        "market_counts = market.apply(lambda x: pd.value_counts(x).max())"
      ],
      "execution_count": null,
      "outputs": []
    },
    {
      "cell_type": "code",
      "metadata": {
        "id": "shoyICdM_wu6",
        "colab_type": "code",
        "colab": {}
      },
      "source": [
        "market.drop(market_counts[market_counts > 462298*.90].index, axis = 1, inplace=True)"
      ],
      "execution_count": null,
      "outputs": []
    },
    {
      "cell_type": "markdown",
      "metadata": {
        "id": "1wicjhnpERPv",
        "colab_type": "text"
      },
      "source": [
        "#Variáveis numéricas"
      ]
    },
    {
      "cell_type": "code",
      "metadata": {
        "id": "6H18et93qFEZ",
        "colab_type": "code",
        "colab": {
          "base_uri": "https://localhost:8080/",
          "height": 317
        },
        "outputId": "4f63dbfe-e250-4288-fc9b-8fa452c0a8dd"
      },
      "source": [
        "market.describe()"
      ],
      "execution_count": null,
      "outputs": [
        {
          "output_type": "execute_result",
          "data": {
            "text/html": [
              "<div>\n",
              "<style scoped>\n",
              "    .dataframe tbody tr th:only-of-type {\n",
              "        vertical-align: middle;\n",
              "    }\n",
              "\n",
              "    .dataframe tbody tr th {\n",
              "        vertical-align: top;\n",
              "    }\n",
              "\n",
              "    .dataframe thead th {\n",
              "        text-align: right;\n",
              "    }\n",
              "</style>\n",
              "<table border=\"1\" class=\"dataframe\">\n",
              "  <thead>\n",
              "    <tr style=\"text-align: right;\">\n",
              "      <th></th>\n",
              "      <th>idade_empresa_anos</th>\n",
              "      <th>nu_meses_rescencia</th>\n",
              "      <th>empsetorcensitariofaixarendapopulacao</th>\n",
              "      <th>qt_socios</th>\n",
              "      <th>qt_socios_pf</th>\n",
              "      <th>qt_socios_pj</th>\n",
              "      <th>idade_media_socios</th>\n",
              "      <th>idade_maxima_socios</th>\n",
              "      <th>idade_minima_socios</th>\n",
              "      <th>qt_socios_st_regular</th>\n",
              "      <th>qt_socios_masculino</th>\n",
              "      <th>qt_socios_feminino</th>\n",
              "      <th>vl_faturamento_estimado_aux</th>\n",
              "      <th>vl_faturamento_estimado_grupo_aux</th>\n",
              "      <th>qt_ex_funcionarios</th>\n",
              "      <th>qt_funcionarios_grupo</th>\n",
              "      <th>meses_ultima_contratacaco</th>\n",
              "      <th>qt_admitidos_12meses</th>\n",
              "      <th>qt_desligados_12meses</th>\n",
              "      <th>qt_desligados</th>\n",
              "      <th>qt_admitidos</th>\n",
              "      <th>media_meses_servicos_all</th>\n",
              "      <th>max_meses_servicos_all</th>\n",
              "      <th>min_meses_servicos_all</th>\n",
              "      <th>qt_funcionarios</th>\n",
              "      <th>qt_funcionarios_12meses</th>\n",
              "      <th>qt_funcionarios_24meses</th>\n",
              "      <th>tx_rotatividade</th>\n",
              "    </tr>\n",
              "  </thead>\n",
              "  <tbody>\n",
              "    <tr>\n",
              "      <th>count</th>\n",
              "      <td>462298.000000</td>\n",
              "      <td>417022.000000</td>\n",
              "      <td>318469.000000</td>\n",
              "      <td>347207.000000</td>\n",
              "      <td>347207.000000</td>\n",
              "      <td>347207.000000</td>\n",
              "      <td>310696.000000</td>\n",
              "      <td>310696.000000</td>\n",
              "      <td>310696.000000</td>\n",
              "      <td>307381.000000</td>\n",
              "      <td>195115.000000</td>\n",
              "      <td>145029.000000</td>\n",
              "      <td>4.347850e+05</td>\n",
              "      <td>4.347850e+05</td>\n",
              "      <td>115254.000000</td>\n",
              "      <td>1.152630e+05</td>\n",
              "      <td>103574.000000</td>\n",
              "      <td>103574.000000</td>\n",
              "      <td>103574.000000</td>\n",
              "      <td>103574.000000</td>\n",
              "      <td>103574.000000</td>\n",
              "      <td>103560.000000</td>\n",
              "      <td>103560.000000</td>\n",
              "      <td>103560.000000</td>\n",
              "      <td>103574.000000</td>\n",
              "      <td>103574.000000</td>\n",
              "      <td>103574.000000</td>\n",
              "      <td>103574.000000</td>\n",
              "    </tr>\n",
              "    <tr>\n",
              "      <th>mean</th>\n",
              "      <td>9.948677</td>\n",
              "      <td>25.007247</td>\n",
              "      <td>1308.005725</td>\n",
              "      <td>1.496326</td>\n",
              "      <td>1.476681</td>\n",
              "      <td>0.019645</td>\n",
              "      <td>42.816452</td>\n",
              "      <td>44.344131</td>\n",
              "      <td>41.355225</td>\n",
              "      <td>1.396082</td>\n",
              "      <td>1.353925</td>\n",
              "      <td>1.107117</td>\n",
              "      <td>8.020911e+05</td>\n",
              "      <td>3.367205e+08</td>\n",
              "      <td>24.838418</td>\n",
              "      <td>1.109122e+04</td>\n",
              "      <td>43.192861</td>\n",
              "      <td>2.101029</td>\n",
              "      <td>1.853148</td>\n",
              "      <td>27.698110</td>\n",
              "      <td>40.022679</td>\n",
              "      <td>41.965123</td>\n",
              "      <td>155.569411</td>\n",
              "      <td>16.200192</td>\n",
              "      <td>12.324570</td>\n",
              "      <td>12.178529</td>\n",
              "      <td>14.343329</td>\n",
              "      <td>9.510699</td>\n",
              "    </tr>\n",
              "    <tr>\n",
              "      <th>std</th>\n",
              "      <td>9.615664</td>\n",
              "      <td>9.679799</td>\n",
              "      <td>1161.889222</td>\n",
              "      <td>3.276626</td>\n",
              "      <td>3.258079</td>\n",
              "      <td>0.195166</td>\n",
              "      <td>12.626447</td>\n",
              "      <td>13.930385</td>\n",
              "      <td>12.514921</td>\n",
              "      <td>2.578793</td>\n",
              "      <td>2.848980</td>\n",
              "      <td>0.840194</td>\n",
              "      <td>3.099979e+07</td>\n",
              "      <td>7.114614e+09</td>\n",
              "      <td>192.458811</td>\n",
              "      <td>1.390161e+05</td>\n",
              "      <td>123.945569</td>\n",
              "      <td>17.377796</td>\n",
              "      <td>15.590181</td>\n",
              "      <td>203.031275</td>\n",
              "      <td>377.411763</td>\n",
              "      <td>153.874093</td>\n",
              "      <td>637.850983</td>\n",
              "      <td>120.269302</td>\n",
              "      <td>222.456579</td>\n",
              "      <td>222.584458</td>\n",
              "      <td>239.885359</td>\n",
              "      <td>27.918737</td>\n",
              "    </tr>\n",
              "    <tr>\n",
              "      <th>min</th>\n",
              "      <td>0.016438</td>\n",
              "      <td>0.000000</td>\n",
              "      <td>100.000000</td>\n",
              "      <td>1.000000</td>\n",
              "      <td>0.000000</td>\n",
              "      <td>0.000000</td>\n",
              "      <td>-2.000000</td>\n",
              "      <td>-2.000000</td>\n",
              "      <td>-2.000000</td>\n",
              "      <td>1.000000</td>\n",
              "      <td>1.000000</td>\n",
              "      <td>1.000000</td>\n",
              "      <td>0.000000e+00</td>\n",
              "      <td>4.104703e+04</td>\n",
              "      <td>0.000000</td>\n",
              "      <td>0.000000e+00</td>\n",
              "      <td>1.933333</td>\n",
              "      <td>0.000000</td>\n",
              "      <td>0.000000</td>\n",
              "      <td>0.000000</td>\n",
              "      <td>1.000000</td>\n",
              "      <td>-102.466667</td>\n",
              "      <td>-102.466667</td>\n",
              "      <td>-102.466667</td>\n",
              "      <td>0.000000</td>\n",
              "      <td>0.000000</td>\n",
              "      <td>0.000000</td>\n",
              "      <td>0.000000</td>\n",
              "    </tr>\n",
              "    <tr>\n",
              "      <th>25%</th>\n",
              "      <td>2.756164</td>\n",
              "      <td>22.000000</td>\n",
              "      <td>673.230000</td>\n",
              "      <td>1.000000</td>\n",
              "      <td>1.000000</td>\n",
              "      <td>0.000000</td>\n",
              "      <td>33.000000</td>\n",
              "      <td>34.000000</td>\n",
              "      <td>32.000000</td>\n",
              "      <td>1.000000</td>\n",
              "      <td>1.000000</td>\n",
              "      <td>1.000000</td>\n",
              "      <td>1.648512e+05</td>\n",
              "      <td>1.854576e+05</td>\n",
              "      <td>1.000000</td>\n",
              "      <td>1.000000e+00</td>\n",
              "      <td>9.300000</td>\n",
              "      <td>0.000000</td>\n",
              "      <td>0.000000</td>\n",
              "      <td>1.000000</td>\n",
              "      <td>2.000000</td>\n",
              "      <td>14.066667</td>\n",
              "      <td>25.366667</td>\n",
              "      <td>1.000000</td>\n",
              "      <td>0.000000</td>\n",
              "      <td>0.000000</td>\n",
              "      <td>0.000000</td>\n",
              "      <td>0.000000</td>\n",
              "    </tr>\n",
              "    <tr>\n",
              "      <th>50%</th>\n",
              "      <td>6.704110</td>\n",
              "      <td>23.000000</td>\n",
              "      <td>946.680000</td>\n",
              "      <td>1.000000</td>\n",
              "      <td>1.000000</td>\n",
              "      <td>0.000000</td>\n",
              "      <td>42.000000</td>\n",
              "      <td>43.000000</td>\n",
              "      <td>40.000000</td>\n",
              "      <td>1.000000</td>\n",
              "      <td>1.000000</td>\n",
              "      <td>1.000000</td>\n",
              "      <td>2.100000e+05</td>\n",
              "      <td>2.100000e+05</td>\n",
              "      <td>3.000000</td>\n",
              "      <td>2.000000e+00</td>\n",
              "      <td>30.300000</td>\n",
              "      <td>0.000000</td>\n",
              "      <td>0.000000</td>\n",
              "      <td>4.000000</td>\n",
              "      <td>6.000000</td>\n",
              "      <td>23.977778</td>\n",
              "      <td>53.666667</td>\n",
              "      <td>4.066667</td>\n",
              "      <td>2.000000</td>\n",
              "      <td>2.000000</td>\n",
              "      <td>2.000000</td>\n",
              "      <td>0.000000</td>\n",
              "    </tr>\n",
              "    <tr>\n",
              "      <th>75%</th>\n",
              "      <td>14.465753</td>\n",
              "      <td>25.000000</td>\n",
              "      <td>1518.080000</td>\n",
              "      <td>2.000000</td>\n",
              "      <td>2.000000</td>\n",
              "      <td>0.000000</td>\n",
              "      <td>51.000000</td>\n",
              "      <td>54.000000</td>\n",
              "      <td>50.000000</td>\n",
              "      <td>1.000000</td>\n",
              "      <td>1.000000</td>\n",
              "      <td>1.000000</td>\n",
              "      <td>2.100000e+05</td>\n",
              "      <td>2.100000e+05</td>\n",
              "      <td>11.000000</td>\n",
              "      <td>9.000000e+00</td>\n",
              "      <td>58.700000</td>\n",
              "      <td>1.000000</td>\n",
              "      <td>1.000000</td>\n",
              "      <td>13.000000</td>\n",
              "      <td>19.000000</td>\n",
              "      <td>40.033333</td>\n",
              "      <td>95.166667</td>\n",
              "      <td>13.200000</td>\n",
              "      <td>5.000000</td>\n",
              "      <td>5.000000</td>\n",
              "      <td>6.000000</td>\n",
              "      <td>0.000000</td>\n",
              "    </tr>\n",
              "    <tr>\n",
              "      <th>max</th>\n",
              "      <td>106.432877</td>\n",
              "      <td>66.000000</td>\n",
              "      <td>75093.840000</td>\n",
              "      <td>246.000000</td>\n",
              "      <td>246.000000</td>\n",
              "      <td>13.000000</td>\n",
              "      <td>127.000000</td>\n",
              "      <td>127.000000</td>\n",
              "      <td>127.000000</td>\n",
              "      <td>179.000000</td>\n",
              "      <td>84.000000</td>\n",
              "      <td>140.000000</td>\n",
              "      <td>1.454662e+10</td>\n",
              "      <td>2.227618e+11</td>\n",
              "      <td>21555.000000</td>\n",
              "      <td>2.668728e+06</td>\n",
              "      <td>5099.066667</td>\n",
              "      <td>1957.000000</td>\n",
              "      <td>2230.000000</td>\n",
              "      <td>21565.000000</td>\n",
              "      <td>71748.000000</td>\n",
              "      <td>5099.066667</td>\n",
              "      <td>5099.066667</td>\n",
              "      <td>5099.066667</td>\n",
              "      <td>51547.000000</td>\n",
              "      <td>51547.000000</td>\n",
              "      <td>54205.000000</td>\n",
              "      <td>1400.000000</td>\n",
              "    </tr>\n",
              "  </tbody>\n",
              "</table>\n",
              "</div>"
            ],
            "text/plain": [
              "       idade_empresa_anos  ...  tx_rotatividade\n",
              "count       462298.000000  ...    103574.000000\n",
              "mean             9.948677  ...         9.510699\n",
              "std              9.615664  ...        27.918737\n",
              "min              0.016438  ...         0.000000\n",
              "25%              2.756164  ...         0.000000\n",
              "50%              6.704110  ...         0.000000\n",
              "75%             14.465753  ...         0.000000\n",
              "max            106.432877  ...      1400.000000\n",
              "\n",
              "[8 rows x 28 columns]"
            ]
          },
          "metadata": {
            "tags": []
          },
          "execution_count": 11
        }
      ]
    },
    {
      "cell_type": "markdown",
      "metadata": {
        "id": "M1yhyMPZucXT",
        "colab_type": "text"
      },
      "source": [
        "em idade_**_socios ver isso de valores com -2.\n",
        "\n",
        "Ver essas qt_socios pq masculino, feminino e regular podem ser combinações\n",
        "\n",
        "Checar variáveis para variação de informação ou outliers:\n",
        "* vl_total_veiculos_***_grupo\n",
        "* qt_socios_**\n",
        "* idade_***_socios\n",
        "* qt_socios_*****\n",
        "* vl_faturamento_****_aux\n",
        "* qt_filiais\n"
      ]
    },
    {
      "cell_type": "code",
      "metadata": {
        "id": "7av-ulg9PBtf",
        "colab_type": "code",
        "colab": {
          "base_uri": "https://localhost:8080/",
          "height": 314
        },
        "outputId": "87a6f88f-146c-47b4-823e-7c205d944917"
      },
      "source": [
        "market['idade_media_socios'].value_counts()\n",
        "sns.distplot(market['idade_media_socios'])\n",
        "\n",
        "market['idade_media_socios'][market['idade_media_socios'] < 0]\n",
        "#só um ponto menor que 0"
      ],
      "execution_count": null,
      "outputs": [
        {
          "output_type": "execute_result",
          "data": {
            "text/plain": [
              "386141   -2.0\n",
              "Name: idade_media_socios, dtype: float64"
            ]
          },
          "metadata": {
            "tags": []
          },
          "execution_count": 12
        },
        {
          "output_type": "display_data",
          "data": {
            "image/png": "[encoded data removed]",
            "text/plain": [
              "<Figure size 432x288 with 1 Axes>"
            ]
          },
          "metadata": {
            "tags": [],
            "needs_background": "light"
          }
        }
      ]
    },
    {
      "cell_type": "code",
      "metadata": {
        "id": "EmqVVXUJQH9b",
        "colab_type": "code",
        "colab": {
          "base_uri": "https://localhost:8080/",
          "height": 298
        },
        "outputId": "8b2c8b62-509e-412e-a843-70929134a6e5"
      },
      "source": [
        "variavel = 'qt_socios_masculino'\n",
        "# market[variavel].value_counts()\n",
        "# sns.distplot(market[variavel])\n",
        "sns.distplot(np.log(market[variavel]))\n",
        "#talvez escalar as variáveis ou um log para dar uma balanceada. \n",
        "#Principalmente essas"
      ],
      "execution_count": null,
      "outputs": [
        {
          "output_type": "execute_result",
          "data": {
            "text/plain": [
              "<matplotlib.axes._subplots.AxesSubplot at 0x7fec03f3b4a8>"
            ]
          },
          "metadata": {
            "tags": []
          },
          "execution_count": 13
        },
        {
          "output_type": "display_data",
          "data": {
            "image/png": "[encoded data removed]",
            "text/plain": [
              "<Figure size 432x288 with 1 Axes>"
            ]
          },
          "metadata": {
            "tags": [],
            "needs_background": "light"
          }
        }
      ]
    },
    {
      "cell_type": "code",
      "metadata": {
        "id": "x9c8twy0JG1X",
        "colab_type": "code",
        "colab": {
          "base_uri": "https://localhost:8080/",
          "height": 297
        },
        "outputId": "4ecba305-0990-4fcb-907c-11652e4da891"
      },
      "source": [
        "sns.distplot(market['idade_empresa_anos'])\n",
        "#dar uma olhada na categoria de idades"
      ],
      "execution_count": null,
      "outputs": [
        {
          "output_type": "execute_result",
          "data": {
            "text/plain": [
              "<matplotlib.axes._subplots.AxesSubplot at 0x7fec03a81710>"
            ]
          },
          "metadata": {
            "tags": []
          },
          "execution_count": 14
        },
        {
          "output_type": "display_data",
          "data": {
            "image/png": "[encoded data removed]",
            "text/plain": [
              "<Figure size 432x288 with 1 Axes>"
            ]
          },
          "metadata": {
            "tags": [],
            "needs_background": "light"
          }
        }
      ]
    },
    {
      "cell_type": "code",
      "metadata": {
        "id": "_8UMHwGdLGIG",
        "colab_type": "code",
        "colab": {
          "base_uri": "https://localhost:8080/",
          "height": 297
        },
        "outputId": "834ae4aa-dde0-461a-8c21-3b3036d62473"
      },
      "source": [
        "market['nu_meses_rescencia'].value_counts()\n",
        "sns.distplot(market['nu_meses_rescencia'])\n",
        "#parecem ser três distribuições"
      ],
      "execution_count": null,
      "outputs": [
        {
          "output_type": "execute_result",
          "data": {
            "text/plain": [
              "<matplotlib.axes._subplots.AxesSubplot at 0x7fec039b2978>"
            ]
          },
          "metadata": {
            "tags": []
          },
          "execution_count": 15
        },
        {
          "output_type": "display_data",
          "data": {
            "image/png": "[encoded data removed]",
            "text/plain": [
              "<Figure size 432x288 with 1 Axes>"
            ]
          },
          "metadata": {
            "tags": [],
            "needs_background": "light"
          }
        }
      ]
    },
    {
      "cell_type": "code",
      "metadata": {
        "id": "OaV8unafM97K",
        "colab_type": "code",
        "colab": {
          "base_uri": "https://localhost:8080/",
          "height": 297
        },
        "outputId": "ac5623a8-9034-4554-e5b1-d81e245fd29b"
      },
      "source": [
        "market['qt_socios_pj'].value_counts()\n",
        "sns.distplot(market['qt_socios_pf'])\n",
        "#valores muito concentrados nas variáveis"
      ],
      "execution_count": null,
      "outputs": [
        {
          "output_type": "execute_result",
          "data": {
            "text/plain": [
              "<matplotlib.axes._subplots.AxesSubplot at 0x7febefd86f60>"
            ]
          },
          "metadata": {
            "tags": []
          },
          "execution_count": 16
        },
        {
          "output_type": "display_data",
          "data": {
            "image/png": "[encoded data removed]",
            "text/plain": [
              "<Figure size 432x288 with 1 Axes>"
            ]
          },
          "metadata": {
            "tags": [],
            "needs_background": "light"
          }
        }
      ]
    },
    {
      "cell_type": "code",
      "metadata": {
        "id": "qeryBrr8O2yZ",
        "colab_type": "code",
        "colab": {
          "base_uri": "https://localhost:8080/",
          "height": 297
        },
        "outputId": "431af337-5e29-41d9-b46c-695a6d959228"
      },
      "source": [
        "variavel = 'vl_faturamento_estimado_grupo_aux'\n",
        "# market[variavel].value_counts()\n",
        "# sns.distplot(market[variavel])\n",
        "sns.distplot(np.log(market[variavel]))\n",
        "#acho a categórica melhor"
      ],
      "execution_count": null,
      "outputs": [
        {
          "output_type": "execute_result",
          "data": {
            "text/plain": [
              "<matplotlib.axes._subplots.AxesSubplot at 0x7fec038e7978>"
            ]
          },
          "metadata": {
            "tags": []
          },
          "execution_count": 17
        },
        {
          "output_type": "display_data",
          "data": {
            "image/png": "[encoded data removed]",
            "text/plain": [
              "<Figure size 432x288 with 1 Axes>"
            ]
          },
          "metadata": {
            "tags": [],
            "needs_background": "light"
          }
        }
      ]
    },
    {
      "cell_type": "markdown",
      "metadata": {
        "id": "Qui0Oo0PK0T6",
        "colab_type": "text"
      },
      "source": [
        "#Variáveis categóricas"
      ]
    },
    {
      "cell_type": "code",
      "metadata": {
        "id": "NbycFA6ixwZQ",
        "colab_type": "code",
        "colab": {
          "base_uri": "https://localhost:8080/",
          "height": 261
        },
        "outputId": "e22d1bff-58ce-427c-a856-59bc2e0adeb7"
      },
      "source": [
        "market.describe(include=\"object\")"
      ],
      "execution_count": null,
      "outputs": [
        {
          "output_type": "execute_result",
          "data": {
            "text/html": [
              "<div>\n",
              "<style scoped>\n",
              "    .dataframe tbody tr th:only-of-type {\n",
              "        vertical-align: middle;\n",
              "    }\n",
              "\n",
              "    .dataframe tbody tr th {\n",
              "        vertical-align: top;\n",
              "    }\n",
              "\n",
              "    .dataframe thead th {\n",
              "        text-align: right;\n",
              "    }\n",
              "</style>\n",
              "<table border=\"1\" class=\"dataframe\">\n",
              "  <thead>\n",
              "    <tr style=\"text-align: right;\">\n",
              "      <th></th>\n",
              "      <th>de_natureza_juridica</th>\n",
              "      <th>sg_uf</th>\n",
              "      <th>natureza_juridica_macro</th>\n",
              "      <th>de_ramo</th>\n",
              "      <th>setor</th>\n",
              "      <th>idade_emp_cat</th>\n",
              "      <th>dt_situacao</th>\n",
              "      <th>fl_rm</th>\n",
              "      <th>nm_divisao</th>\n",
              "      <th>nm_segmento</th>\n",
              "      <th>fl_optante_simples</th>\n",
              "      <th>fl_optante_simei</th>\n",
              "      <th>sg_uf_matriz</th>\n",
              "      <th>de_saude_tributaria</th>\n",
              "      <th>de_saude_rescencia</th>\n",
              "      <th>de_nivel_atividade</th>\n",
              "      <th>nm_meso_regiao</th>\n",
              "      <th>nm_micro_regiao</th>\n",
              "      <th>fl_passivel_iss</th>\n",
              "      <th>de_faixa_faturamento_estimado</th>\n",
              "      <th>de_faixa_faturamento_estimado_grupo</th>\n",
              "    </tr>\n",
              "  </thead>\n",
              "  <tbody>\n",
              "    <tr>\n",
              "      <th>count</th>\n",
              "      <td>462298</td>\n",
              "      <td>462298</td>\n",
              "      <td>462298</td>\n",
              "      <td>462298</td>\n",
              "      <td>460371</td>\n",
              "      <td>462298</td>\n",
              "      <td>462292</td>\n",
              "      <td>462298</td>\n",
              "      <td>460371</td>\n",
              "      <td>460371</td>\n",
              "      <td>379585</td>\n",
              "      <td>379585</td>\n",
              "      <td>460359</td>\n",
              "      <td>447447</td>\n",
              "      <td>447447</td>\n",
              "      <td>451130</td>\n",
              "      <td>403600</td>\n",
              "      <td>403600</td>\n",
              "      <td>460371</td>\n",
              "      <td>434785</td>\n",
              "      <td>434785</td>\n",
              "    </tr>\n",
              "    <tr>\n",
              "      <th>unique</th>\n",
              "      <td>67</td>\n",
              "      <td>6</td>\n",
              "      <td>7</td>\n",
              "      <td>33</td>\n",
              "      <td>5</td>\n",
              "      <td>6</td>\n",
              "      <td>7334</td>\n",
              "      <td>2</td>\n",
              "      <td>87</td>\n",
              "      <td>21</td>\n",
              "      <td>2</td>\n",
              "      <td>2</td>\n",
              "      <td>27</td>\n",
              "      <td>6</td>\n",
              "      <td>5</td>\n",
              "      <td>4</td>\n",
              "      <td>19</td>\n",
              "      <td>73</td>\n",
              "      <td>2</td>\n",
              "      <td>12</td>\n",
              "      <td>11</td>\n",
              "    </tr>\n",
              "    <tr>\n",
              "      <th>top</th>\n",
              "      <td>EMPRESARIO INDIVIDUAL</td>\n",
              "      <td>MA</td>\n",
              "      <td>OUTROS</td>\n",
              "      <td>COMERCIO VAREJISTA</td>\n",
              "      <td>COMERCIO</td>\n",
              "      <td>1 a 5</td>\n",
              "      <td>2005-11-03</td>\n",
              "      <td>NAO</td>\n",
              "      <td>COMERCIO VAREJISTA</td>\n",
              "      <td>COMERCIO; REPARACAO DE VEICULOS AUTOMOTORES E ...</td>\n",
              "      <td>True</td>\n",
              "      <td>False</td>\n",
              "      <td>MA</td>\n",
              "      <td>VERDE</td>\n",
              "      <td>ACIMA DE 1 ANO</td>\n",
              "      <td>MEDIA</td>\n",
              "      <td>CENTRO AMAZONENSE</td>\n",
              "      <td>MANAUS</td>\n",
              "      <td>True</td>\n",
              "      <td>DE R$ 81.000,01 A R$ 360.000,00</td>\n",
              "      <td>DE R$ 81.000,01 A R$ 360.000,00</td>\n",
              "    </tr>\n",
              "    <tr>\n",
              "      <th>freq</th>\n",
              "      <td>295756</td>\n",
              "      <td>127654</td>\n",
              "      <td>320211</td>\n",
              "      <td>172404</td>\n",
              "      <td>211224</td>\n",
              "      <td>138580</td>\n",
              "      <td>69465</td>\n",
              "      <td>236779</td>\n",
              "      <td>172404</td>\n",
              "      <td>211224</td>\n",
              "      <td>199617</td>\n",
              "      <td>285545</td>\n",
              "      <td>124823</td>\n",
              "      <td>145430</td>\n",
              "      <td>378896</td>\n",
              "      <td>217949</td>\n",
              "      <td>71469</td>\n",
              "      <td>60008</td>\n",
              "      <td>264741</td>\n",
              "      <td>273861</td>\n",
              "      <td>252602</td>\n",
              "    </tr>\n",
              "  </tbody>\n",
              "</table>\n",
              "</div>"
            ],
            "text/plain": [
              "         de_natureza_juridica  ... de_faixa_faturamento_estimado_grupo\n",
              "count                  462298  ...                              434785\n",
              "unique                     67  ...                                  11\n",
              "top     EMPRESARIO INDIVIDUAL  ...     DE R$ 81.000,01 A R$ 360.000,00\n",
              "freq                   295756  ...                              252602\n",
              "\n",
              "[4 rows x 21 columns]"
            ]
          },
          "metadata": {
            "tags": []
          },
          "execution_count": 18
        }
      ]
    },
    {
      "cell_type": "markdown",
      "metadata": {
        "id": "kp4vDLqB6z2V",
        "colab_type": "text"
      },
      "source": [
        "Usar variáveis com valores menores.\n",
        "\n",
        "* natureza_juridica_macro, não de_natureza_juridica\n",
        "* setor e não, de_ramo\n",
        "* idade_emp_cat talvez a se considerar num algoritmo de árvore\n",
        "* dt_situação não é muito útil\n",
        "* nm_segmento e não nm_divisão\n",
        "* fl_veiculo relevante com outras features\n",
        "* tirar nm_micro_regiao\n",
        "* ver quanto de faixa e de faixa grupo são parecidos"
      ]
    },
    {
      "cell_type": "code",
      "metadata": {
        "id": "VNUugmSH4Tmr",
        "colab_type": "code",
        "colab": {
          "base_uri": "https://localhost:8080/",
          "height": 221
        },
        "outputId": "7c184985-e1a7-4b9e-be47-85e79ecf6f51"
      },
      "source": [
        "market['de_natureza_juridica'].value_counts()\n"
      ],
      "execution_count": null,
      "outputs": [
        {
          "output_type": "execute_result",
          "data": {
            "text/plain": [
              "EMPRESARIO INDIVIDUAL                                                     295756\n",
              "SOCIEDADE EMPRESARIA LIMITADA                                              91231\n",
              "ASSOCIACAO PRIVADA                                                         29694\n",
              "EMPRESA INDIVIDUAL DE RESPONSABILIDADE LIMITADA DE NATUREZA EMPRESARIA     15183\n",
              "ORGAO DE DIRECAO LOCAL DE PARTIDO POLITICO                                  7301\n",
              "                                                                           ...  \n",
              "ORGAO DE DIRECAO NACIONAL DE PARTIDO POLITICO                                  1\n",
              "FUNDO PRIVADO                                                                  1\n",
              "CONSORCIO DE EMPREGADORES                                                      1\n",
              "CONSORCIO PUBLICO DE DIREITO PRIVADO                                           1\n",
              "SOCIEDADE SIMPLES EM NOME COLETIVO                                             1\n",
              "Name: de_natureza_juridica, Length: 67, dtype: int64"
            ]
          },
          "metadata": {
            "tags": []
          },
          "execution_count": 19
        }
      ]
    },
    {
      "cell_type": "code",
      "metadata": {
        "id": "7Z4hEgnTjdtA",
        "colab_type": "code",
        "colab": {
          "base_uri": "https://localhost:8080/",
          "height": 153
        },
        "outputId": "69a55ec7-7ecc-430d-c191-bd798fec0796"
      },
      "source": [
        "market['natureza_juridica_macro'].value_counts()\n",
        "#muito melhor usar essa outra. Talves eliminar as menos comuns inclusive"
      ],
      "execution_count": null,
      "outputs": [
        {
          "output_type": "execute_result",
          "data": {
            "text/plain": [
              "OUTROS                            320211\n",
              "ENTIDADES EMPRESARIAIS             99241\n",
              "ENTIDADES SEM FINS LUCRATIVOS      37089\n",
              "ADMINISTRACAO PUBLICA               2912\n",
              "CARGO POLITICO                      1617\n",
              "PESSOAS FISICAS                     1225\n",
              "INSTITUICOES EXTRATERRITORIAIS         3\n",
              "Name: natureza_juridica_macro, dtype: int64"
            ]
          },
          "metadata": {
            "tags": []
          },
          "execution_count": 20
        }
      ]
    },
    {
      "cell_type": "code",
      "metadata": {
        "id": "f0sFKPPcj-0s",
        "colab_type": "code",
        "colab": {
          "base_uri": "https://localhost:8080/",
          "height": 119
        },
        "outputId": "72281817-ea55-4102-c672-9ca688b229df"
      },
      "source": [
        "market['de_ramo'].value_counts()\n",
        "market['setor'].value_counts()"
      ],
      "execution_count": null,
      "outputs": [
        {
          "output_type": "execute_result",
          "data": {
            "text/plain": [
              "COMERCIO            211224\n",
              "SERVIÇO             189644\n",
              "INDUSTRIA            30893\n",
              "CONSTRUÇÃO CIVIL     25363\n",
              "AGROPECUARIA          3247\n",
              "Name: setor, dtype: int64"
            ]
          },
          "metadata": {
            "tags": []
          },
          "execution_count": 21
        }
      ]
    },
    {
      "cell_type": "code",
      "metadata": {
        "id": "fHxMZyPZkHjK",
        "colab_type": "code",
        "colab": {
          "base_uri": "https://localhost:8080/",
          "height": 68
        },
        "outputId": "494fa125-e770-4842-e1d5-a7990d37ff4c"
      },
      "source": [
        "market['dt_situacao'].value_counts()\n",
        "#possível marcada para uma melhoria do modelo. Transformar ela em numérica talvez\n",
        "#ou em ano\n",
        "\n",
        "market['dt_situacao'].str.extract('(\\d{2})', expand=False).value_counts()\n",
        "#possível ideia pela década ou anos"
      ],
      "execution_count": null,
      "outputs": [
        {
          "output_type": "execute_result",
          "data": {
            "text/plain": [
              "20    458318\n",
              "19      3974\n",
              "Name: dt_situacao, dtype: int64"
            ]
          },
          "metadata": {
            "tags": []
          },
          "execution_count": 22
        }
      ]
    },
    {
      "cell_type": "code",
      "metadata": {
        "id": "v1zQ61xwr19V",
        "colab_type": "code",
        "colab": {
          "base_uri": "https://localhost:8080/",
          "height": 221
        },
        "outputId": "d478f530-f535-4846-ff4d-f01bc52ec0ac"
      },
      "source": [
        "market['nm_micro_regiao'].value_counts()\n",
        "#tirar mesmo"
      ],
      "execution_count": null,
      "outputs": [
        {
          "output_type": "execute_result",
          "data": {
            "text/plain": [
              "MANAUS                            60008\n",
              "NATAL                             46745\n",
              "AGLOMERACAO URBANA DE SAO LUIS    45875\n",
              "TERESINA                          33887\n",
              "IMPERATRIZ                        15912\n",
              "                                  ...  \n",
              "BERTOLINIA                          854\n",
              "PIO IX                              823\n",
              "PURUS                               757\n",
              "MEDIO OESTE                         562\n",
              "JAPURA                              190\n",
              "Name: nm_micro_regiao, Length: 73, dtype: int64"
            ]
          },
          "metadata": {
            "tags": []
          },
          "execution_count": 23
        }
      ]
    },
    {
      "cell_type": "code",
      "metadata": {
        "id": "2cPj858dr-9Z",
        "colab_type": "code",
        "colab": {
          "base_uri": "https://localhost:8080/",
          "height": 357
        },
        "outputId": "371bca4b-8aaf-4f63-dbe1-9130b667b936"
      },
      "source": [
        "market['nm_meso_regiao'].value_counts()\n",
        "#preciso mesmo de estado tendo essa variável?"
      ],
      "execution_count": null,
      "outputs": [
        {
          "output_type": "execute_result",
          "data": {
            "text/plain": [
              "CENTRO AMAZONENSE         71469\n",
              "NORTE MARANHENSE          61331\n",
              "LESTE POTIGUAR            58762\n",
              "CENTRO NORTE PIAUIENSE    42244\n",
              "OESTE MARANHENSE          26796\n",
              "OESTE POTIGUAR            20860\n",
              "LESTE MARANHENSE          17651\n",
              "VALE DO ACRE              16539\n",
              "CENTRO MARANHENSE         13755\n",
              "SUDOESTE PIAUIENSE        12180\n",
              "NORTE PIAUIENSE           11919\n",
              "CENTRAL POTIGUAR          10681\n",
              "SUDESTE PIAUIENSE         10049\n",
              "AGRESTE POTIGUAR           7845\n",
              "SUL MARANHENSE             7382\n",
              "SUL AMAZONENSE             4931\n",
              "VALE DO JURUA              3900\n",
              "SUDOESTE AMAZONENSE        3738\n",
              "NORTE AMAZONENSE           1568\n",
              "Name: nm_meso_regiao, dtype: int64"
            ]
          },
          "metadata": {
            "tags": []
          },
          "execution_count": 24
        }
      ]
    },
    {
      "cell_type": "code",
      "metadata": {
        "id": "U-f6IVyBvt2E",
        "colab_type": "code",
        "colab": {
          "base_uri": "https://localhost:8080/",
          "height": 400
        },
        "outputId": "1efeb231-2fb0-4f6c-88b3-50b21aa7228c"
      },
      "source": [
        "sns.catplot(y='value', data=pd.melt(market[['de_faixa_faturamento_estimado', 'de_faixa_faturamento_estimado_grupo']]), col='variable', kind='count')\n",
        "#quase igual. Talvez vale uma variável se tão na mesma categoria ou não"
      ],
      "execution_count": null,
      "outputs": [
        {
          "output_type": "execute_result",
          "data": {
            "text/plain": [
              "<seaborn.axisgrid.FacetGrid at 0x7fec0383dd30>"
            ]
          },
          "metadata": {
            "tags": []
          },
          "execution_count": 25
        },
        {
          "output_type": "display_data",
          "data": {
            "image/png": "[encoded data removed]",
            "text/plain": [
              "<Figure size 720x360 with 2 Axes>"
            ]
          },
          "metadata": {
            "tags": [],
            "needs_background": "light"
          }
        }
      ]
    },
    {
      "cell_type": "code",
      "metadata": {
        "id": "rTTvaUqh4Vkv",
        "colab_type": "code",
        "colab": {}
      },
      "source": [
        "faixa_faturamento_igual = market['de_faixa_faturamento_estimado'] == market['de_faixa_faturamento_estimado_grupo']"
      ],
      "execution_count": null,
      "outputs": []
    },
    {
      "cell_type": "code",
      "metadata": {
        "id": "l_5Gh3LNBHgl",
        "colab_type": "code",
        "colab": {
          "base_uri": "https://localhost:8080/",
          "height": 221
        },
        "outputId": "186dd823-12c9-4b6b-cb63-e3920e4a8183"
      },
      "source": [
        "market['sg_uf'] == market['sg_uf_matriz']"
      ],
      "execution_count": null,
      "outputs": [
        {
          "output_type": "execute_result",
          "data": {
            "text/plain": [
              "0         True\n",
              "1         True\n",
              "2         True\n",
              "3         True\n",
              "4         True\n",
              "          ... \n",
              "462293    True\n",
              "462294    True\n",
              "462295    True\n",
              "462296    True\n",
              "462297    True\n",
              "Length: 462298, dtype: bool"
            ]
          },
          "metadata": {
            "tags": []
          },
          "execution_count": 27
        }
      ]
    },
    {
      "cell_type": "markdown",
      "metadata": {
        "id": "eoXBqhRU38YW",
        "colab_type": "text"
      },
      "source": [
        "# Decisões para baseline\n"
      ]
    },
    {
      "cell_type": "markdown",
      "metadata": {
        "id": "2OWaoaxb3zlI",
        "colab_type": "text"
      },
      "source": [
        "## Variáveis para remover:\n",
        "'vl_total_veiculos_pesados_grupo', 'vl_total_veiculos_leves_grupo', 'nu_meses_rescencia', 'qt_socios_pf', 'qt_socios_pj', 'vl_faturamento_estimado_grupo_aux', de_natureza_juridica, 'de_ramo', 'nm_divisao', 'dt_situacao', nm_micro_regiao\n"
      ]
    },
    {
      "cell_type": "markdown",
      "metadata": {
        "id": "wIMFHqzp4Fqe",
        "colab_type": "text"
      },
      "source": [
        "## Variáveis para transformar\n",
        "\n",
        "faixa_faturamento_igual = market['de_faixa_faturamento_estimado'] == market['de_faixa_faturamento_estimado_grupo']\n",
        "\n",
        "depois retirar 'faixa_faturamento_grupo'\n"
      ]
    },
    {
      "cell_type": "markdown",
      "metadata": {
        "id": "AoBzT0Mz4K9S",
        "colab_type": "text"
      },
      "source": [
        "## Transformações gerais\n",
        "\n",
        "* Nenhuma variável tem valores menores que zero. Fazer esses valores serem 0\n",
        "* log/normalização ou normalização/padronização\n",
        "* "
      ]
    },
    {
      "cell_type": "markdown",
      "metadata": {
        "id": "4jro3NK9o5SH",
        "colab_type": "text"
      },
      "source": [
        "# Baseline"
      ]
    },
    {
      "cell_type": "markdown",
      "metadata": {
        "id": "J843Qm7j2Vux",
        "colab_type": "text"
      },
      "source": [
        "## Pré processamento"
      ]
    },
    {
      "cell_type": "code",
      "metadata": {
        "id": "SqjWKsVq4Nqf",
        "colab_type": "code",
        "colab": {
          "base_uri": "https://localhost:8080/",
          "height": 197
        },
        "outputId": "b6107eda-921d-49c7-d679-56cd75fe1ef2"
      },
      "source": [
        "# to_drop = ['nu_meses_rescencia', 'qt_socios_pf', 'qt_socios_pj', \n",
        "#            'vl_faturamento_estimado_grupo_aux', 'de_natureza_juridica', \n",
        "#            'de_ramo', 'nm_divisao', 'dt_situacao', 'nm_micro_regiao', \n",
        "#            'idade_empresa_anos', 'sg_uf_matriz', 'qt_socios_feminino'\n",
        "#            , 'de_faixa_faturamento_estimado_grupo']\n",
        "\n",
        "to_drop = ['vl_faturamento_estimado_grupo_aux', 'de_natureza_juridica', \n",
        "           'de_ramo', 'nm_divisao', 'dt_situacao', 'nm_micro_regiao', \n",
        "           'sg_uf_matriz', 'qt_socios_feminino'\n",
        "           , 'de_faixa_faturamento_estimado_grupo']\n",
        "\n",
        "market_reduced = market.drop(to_drop, axis=1)"
      ],
      "execution_count": null,
      "outputs": [
        {
          "output_type": "error",
          "ename": "NameError",
          "evalue": "ignored",
          "traceback": [
            "\u001b[0;31m---------------------------------------------------------------------------\u001b[0m",
            "\u001b[0;31mNameError\u001b[0m                                 Traceback (most recent call last)",
            "\u001b[0;32m<ipython-input-1-cef80c8157ed>\u001b[0m in \u001b[0;36m<module>\u001b[0;34m()\u001b[0m\n\u001b[1;32m     10\u001b[0m            , 'de_faixa_faturamento_estimado_grupo']\n\u001b[1;32m     11\u001b[0m \u001b[0;34m\u001b[0m\u001b[0m\n\u001b[0;32m---> 12\u001b[0;31m \u001b[0mmarket_reduced\u001b[0m \u001b[0;34m=\u001b[0m \u001b[0mmarket\u001b[0m\u001b[0;34m.\u001b[0m\u001b[0mdrop\u001b[0m\u001b[0;34m(\u001b[0m\u001b[0mto_drop\u001b[0m\u001b[0;34m,\u001b[0m \u001b[0maxis\u001b[0m\u001b[0;34m=\u001b[0m\u001b[0;36m1\u001b[0m\u001b[0;34m)\u001b[0m\u001b[0;34m\u001b[0m\u001b[0;34m\u001b[0m\u001b[0m\n\u001b[0m",
            "\u001b[0;31mNameError\u001b[0m: name 'market' is not defined"
          ]
        }
      ]
    },
    {
      "cell_type": "markdown",
      "metadata": {
        "id": "zAPaqtj7HYGH",
        "colab_type": "text"
      },
      "source": [
        "Transformar valor negativo, -2, em 0."
      ]
    },
    {
      "cell_type": "code",
      "metadata": {
        "id": "CXpR8XtTGLLk",
        "colab_type": "code",
        "colab": {
          "base_uri": "https://localhost:8080/",
          "height": 163
        },
        "outputId": "499bd7ee-e79e-46e1-8014-7971e454a607"
      },
      "source": [
        "market_reduced.replace(-2, 0, inplace=True)"
      ],
      "execution_count": null,
      "outputs": [
        {
          "output_type": "error",
          "ename": "NameError",
          "evalue": "ignored",
          "traceback": [
            "\u001b[0;31m---------------------------------------------------------------------------\u001b[0m",
            "\u001b[0;31mNameError\u001b[0m                                 Traceback (most recent call last)",
            "\u001b[0;32m<ipython-input-2-8f707db8c91f>\u001b[0m in \u001b[0;36m<module>\u001b[0;34m()\u001b[0m\n\u001b[0;32m----> 1\u001b[0;31m \u001b[0mmarket_reduced\u001b[0m\u001b[0;34m.\u001b[0m\u001b[0mreplace\u001b[0m\u001b[0;34m(\u001b[0m\u001b[0;34m-\u001b[0m\u001b[0;36m2\u001b[0m\u001b[0;34m,\u001b[0m \u001b[0;36m0\u001b[0m\u001b[0;34m,\u001b[0m \u001b[0minplace\u001b[0m\u001b[0;34m=\u001b[0m\u001b[0;32mTrue\u001b[0m\u001b[0;34m)\u001b[0m\u001b[0;34m\u001b[0m\u001b[0;34m\u001b[0m\u001b[0m\n\u001b[0m",
            "\u001b[0;31mNameError\u001b[0m: name 'market_reduced' is not defined"
          ]
        }
      ]
    },
    {
      "cell_type": "markdown",
      "metadata": {
        "id": "55sZjHlrHeJT",
        "colab_type": "text"
      },
      "source": [
        "## Pipeline de pré processamento\n"
      ]
    },
    {
      "cell_type": "code",
      "metadata": {
        "id": "bbr2dmoVLVr-",
        "colab_type": "code",
        "colab": {}
      },
      "source": [
        "categorical_cols = [cname for cname in market_reduced.columns if \n",
        "                    market_reduced[cname].nunique() < 15 and \n",
        "                    market_reduced[cname].dtype == \"object\"]\n",
        "\n",
        "# Seleciona as variáveis numéricas\n",
        "numerical_cols = [cname for cname in market_reduced.columns if \n",
        "                market_reduced[cname].dtype in ['int64', 'bool', 'float64']]"
      ],
      "execution_count": null,
      "outputs": []
    },
    {
      "cell_type": "code",
      "metadata": {
        "id": "uuRqlE-QHQB7",
        "colab_type": "code",
        "colab": {}
      },
      "source": [
        "from sklearn.compose import ColumnTransformer\n",
        "from sklearn.pipeline import Pipeline\n",
        "from sklearn.impute import SimpleImputer\n",
        "from sklearn.preprocessing import OneHotEncoder\n",
        "from sklearn.preprocessing import MaxAbsScaler\n",
        "from sklearn.decomposition import PCA\n",
        "\n",
        "# Preprocessamento de variáveis numéricas\n",
        "categorical_transformer = OneHotEncoder(handle_unknown='ignore')\n",
        "\n",
        "# Preprocessamento de dados categóricos\n",
        "numerical_transformer = Pipeline(steps=[\n",
        "    ('imputer', SimpleImputer(strategy='median')),\n",
        "    ('scaler', MaxAbsScaler())\n",
        "])\n",
        "\n",
        "# Pipeline com processamentos\n",
        "preprocessor_pipeline = ColumnTransformer(\n",
        "    transformers=[\n",
        "        ('num', numerical_transformer, numerical_cols),\n",
        "        ('cat', categorical_transformer, categorical_cols)\n",
        "    ])\n",
        "\n",
        "\n",
        "pca_transformer = PCA(n_components=.9)\n",
        "full_pipeline = Pipeline(steps=[('preprocessor', preprocessor_pipeline),\n",
        "                      ('pca', pca_transformer)\n",
        "                     ])"
      ],
      "execution_count": null,
      "outputs": []
    },
    {
      "cell_type": "code",
      "metadata": {
        "id": "DpiX5kE0Oc9K",
        "colab_type": "code",
        "colab": {}
      },
      "source": [
        "market_reduced[categorical_cols] = market_reduced[categorical_cols].fillna(\n",
        "    value=market_reduced[categorical_cols].mode().iloc[0])"
      ],
      "execution_count": null,
      "outputs": []
    },
    {
      "cell_type": "code",
      "metadata": {
        "id": "GxwauQmcrmP6",
        "colab_type": "code",
        "colab": {}
      },
      "source": [
        "pca_result = full_pipeline.fit_transform(market_reduced[numerical_cols])"
      ],
      "execution_count": null,
      "outputs": []
    },
    {
      "cell_type": "code",
      "metadata": {
        "id": "lli9K1Yp8lED",
        "colab_type": "code",
        "colab": {}
      },
      "source": [
        "selected_companies = portifolio2.iloc[0:100, 1]\n",
        "test_indexes = market_initial[market_initial['id'].isin(selected_companies)].index"
      ],
      "execution_count": null,
      "outputs": []
    },
    {
      "cell_type": "code",
      "metadata": {
        "id": "EQ9Ui675r13V",
        "colab_type": "code",
        "colab": {}
      },
      "source": [
        "# np.linalg.norm(df[['lat', 'long']].sub(np.array(L1)), axis=1)\n",
        "distance_result = [pd.Series(np.linalg.norm((pca_result - pca_result[test_index]), axis=1)) for test_index in test_indexes]"
      ],
      "execution_count": null,
      "outputs": []
    },
    {
      "cell_type": "code",
      "metadata": {
        "id": "HqIaMWTGRPlt",
        "colab_type": "code",
        "colab": {}
      },
      "source": [
        "# distance_result_df = pd.DataFrame(distance_result)\n",
        "distance_result_df = pd.concat(distance_result, axis=1)"
      ],
      "execution_count": null,
      "outputs": []
    },
    {
      "cell_type": "code",
      "metadata": {
        "id": "U50VCHYhUNH4",
        "colab_type": "code",
        "colab": {}
      },
      "source": [
        "result_indexes = distance_result_df.median(axis=1).sort_values()[0:1000].index"
      ],
      "execution_count": null,
      "outputs": []
    },
    {
      "cell_type": "code",
      "metadata": {
        "id": "maEQer2K2lD8",
        "colab_type": "code",
        "colab": {}
      },
      "source": [
        "portifolio_list_1 = pd.DataFrame({'id':market_initial['id'], \n",
        "              'distance': distance_result_df.median(axis=1)}).sort_values(\n",
        "                  'distance')"
      ],
      "execution_count": null,
      "outputs": []
    },
    {
      "cell_type": "code",
      "metadata": {
        "id": "zvLx_kHS3hyx",
        "colab_type": "code",
        "colab": {
          "base_uri": "https://localhost:8080/",
          "height": 34
        },
        "outputId": "aa3ded95-ffed-4940-d784-a2e2ef798a37"
      },
      "source": [
        "np.intersect1d(portifolio2['id'], portifolio_list_1.iloc[result_indexes, 0]).shape"
      ],
      "execution_count": null,
      "outputs": [
        {
          "output_type": "execute_result",
          "data": {
            "text/plain": [
              "(0,)"
            ]
          },
          "metadata": {
            "tags": []
          },
          "execution_count": 92
        }
      ]
    },
    {
      "cell_type": "code",
      "metadata": {
        "id": "89ZKFpl5EfQE",
        "colab_type": "code",
        "colab": {
          "base_uri": "https://localhost:8080/",
          "height": 221
        },
        "outputId": "6798de70-a367-4db0-ceb8-92d173336b40"
      },
      "source": [
        "portifolio_list_1.iloc[0:1000, 0]"
      ],
      "execution_count": null,
      "outputs": [
        {
          "output_type": "execute_result",
          "data": {
            "text/plain": [
              "604       32e5f4e10932153a7ba869cb0386e7e02d49d2461046b8...\n",
              "274348    a54b86764b45588620443b9aa39bfcbeca4f5a297994f9...\n",
              "328831    82abf02265754edb1bcacdb8b4c92b8cca373b22b82a78...\n",
              "189066    c5e918707327fe5e5ef4fba053e818c5df054674e3c853...\n",
              "279429    d64e2681f1a199af3f3102b8525187c6bbd53e037c226a...\n",
              "                                ...                        \n",
              "447868    dd4205337a258c846042683a26dd992fb1edcdec1fffb5...\n",
              "136534    bfad933bc8787d82c43c6c9a206bf1781b84c5eea06203...\n",
              "214825    78fe9301cbd59fc873bf7c07e398c0598134d9991947bb...\n",
              "294626    fd1e7d563ce835c3c18a9fd950b11b9ea5f311a4926177...\n",
              "67373     a9968dac592bcc54bedb717252ca5e1e2547a8f26ca134...\n",
              "Name: id, Length: 1000, dtype: object"
            ]
          },
          "metadata": {
            "tags": []
          },
          "execution_count": 101
        }
      ]
    },
    {
      "cell_type": "code",
      "metadata": {
        "id": "H9kXO2x2AM9T",
        "colab_type": "code",
        "colab": {
          "base_uri": "https://localhost:8080/",
          "height": 34
        },
        "outputId": "e165dbb1-a050-40fa-c444-2046607e2aa6"
      },
      "source": [
        "market_initial[market_initial['id'] == portifolio1.iloc[1, 1]].index"
      ],
      "execution_count": null,
      "outputs": [
        {
          "output_type": "execute_result",
          "data": {
            "text/plain": [
              "Int64Index([604], dtype='int64')"
            ]
          },
          "metadata": {
            "tags": []
          },
          "execution_count": 83
        }
      ]
    }
  ]
}